{
 "cells": [
  {
   "cell_type": "code",
   "execution_count": 1,
   "id": "8c9a9c3b-f944-4d97-84b3-56f018f7edec",
   "metadata": {},
   "outputs": [],
   "source": [
    "import numpy as np\n",
    "import pandas as pd"
   ]
  },
  {
   "cell_type": "markdown",
   "id": "f17f0060-ef91-4922-8e1c-c1c1e61667fd",
   "metadata": {},
   "source": [
    "# create timestamp (Oct 24th, 2024 at 7:00pm )\n",
    "\n",
    "(year/month/date, hours,minute, second,AM/PM)"
   ]
  },
  {
   "cell_type": "code",
   "execution_count": 2,
   "id": "596c3491-bfec-4050-bb22-f99dfbfa15db",
   "metadata": {},
   "outputs": [
    {
     "data": {
      "text/plain": [
       "Timestamp('2023-08-15 00:00:00')"
      ]
     },
     "execution_count": 2,
     "metadata": {},
     "output_type": "execute_result"
    }
   ],
   "source": [
    "pd.Timestamp(\"2023/8/15\")"
   ]
  },
  {
   "cell_type": "code",
   "execution_count": 7,
   "id": "5379ceb3-cd89-4174-90f0-c80fb2cc4a1d",
   "metadata": {},
   "outputs": [
    {
     "data": {
      "text/plain": [
       "Timestamp('2023-08-15 00:00:00')"
      ]
     },
     "execution_count": 7,
     "metadata": {},
     "output_type": "execute_result"
    }
   ],
   "source": [
    "# variations\n",
    "pd.Timestamp(\"2023-08-15\")\n",
    "pd.Timestamp(\"2023, 8,15\")"
   ]
  },
  {
   "cell_type": "code",
   "execution_count": 10,
   "id": "9d3eb155-6f70-47a1-ac29-befe9fc36bdc",
   "metadata": {},
   "outputs": [
    {
     "data": {
      "text/plain": [
       "Timestamp('2024-01-01 00:00:00')"
      ]
     },
     "execution_count": 10,
     "metadata": {},
     "output_type": "execute_result"
    }
   ],
   "source": [
    "# only year\n",
    "pd.Timestamp(\"2024\")"
   ]
  },
  {
   "cell_type": "code",
   "execution_count": 12,
   "id": "917a195a-1089-4ee2-92ab-d48c59e372c5",
   "metadata": {},
   "outputs": [
    {
     "data": {
      "text/plain": [
       "Timestamp('1997-01-01 00:00:00')"
      ]
     },
     "execution_count": 12,
     "metadata": {},
     "output_type": "execute_result"
    }
   ],
   "source": [
    "# using text \n",
    "pd.Timestamp(\"1st january 1997\")\n",
    "pd.Timestamp(\"1 jan 1997\")"
   ]
  },
  {
   "cell_type": "code",
   "execution_count": 27,
   "id": "30af90d0-50cc-454b-93b9-8f5da86683f7",
   "metadata": {},
   "outputs": [
    {
     "data": {
      "text/plain": [
       "Timestamp('1997-01-01 12:45:10')"
      ]
     },
     "execution_count": 27,
     "metadata": {},
     "output_type": "execute_result"
    }
   ],
   "source": [
    "# provide time also\n",
    "pd.Timestamp(\"1st january 1997, 12:45:10\")"
   ]
  },
  {
   "cell_type": "code",
   "execution_count": 28,
   "id": "7ec1ef89-9b14-4ed1-9ca8-fde3b42f6bab",
   "metadata": {},
   "outputs": [
    {
     "data": {
      "text/plain": [
       "Timestamp('1997-01-01 00:45:10')"
      ]
     },
     "execution_count": 28,
     "metadata": {},
     "output_type": "execute_result"
    }
   ],
   "source": [
    "# AM\n",
    "pd.Timestamp(\"1st january 1997, 12:45:10AM\")"
   ]
  },
  {
   "cell_type": "code",
   "execution_count": 30,
   "id": "23919658-c503-406c-9c9a-13e263bdc147",
   "metadata": {},
   "outputs": [
    {
     "data": {
      "text/plain": [
       "Timestamp('1997-01-01 12:45:10')"
      ]
     },
     "execution_count": 30,
     "metadata": {},
     "output_type": "execute_result"
    }
   ],
   "source": [
    "# PM\n",
    "pd.Timestamp(\"1st january 1997, 12:45:10PM\")"
   ]
  },
  {
   "cell_type": "code",
   "execution_count": 32,
   "id": "b58c4ba4-b646-4137-9b92-afaf29f8b488",
   "metadata": {},
   "outputs": [],
   "source": [
    "import datetime as dt"
   ]
  },
  {
   "cell_type": "code",
   "execution_count": 36,
   "id": "5ce3b7de-7d8e-42df-825e-ff04b66acb5a",
   "metadata": {},
   "outputs": [
    {
     "data": {
      "text/plain": [
       "Timestamp('2024-08-15 10:57:26')"
      ]
     },
     "execution_count": 36,
     "metadata": {},
     "output_type": "execute_result"
    }
   ],
   "source": [
    "dt.datetime(2024,8,15,10,57,26)\n",
    "x=pd.Timestamp(dt.datetime(2024,8,15,10,57,26))\n",
    "x"
   ]
  },
  {
   "cell_type": "code",
   "execution_count": 44,
   "id": "fc35357c-9d4b-4eed-984d-2a60d59a0a39",
   "metadata": {},
   "outputs": [
    {
     "data": {
      "text/plain": [
       "26"
      ]
     },
     "execution_count": 44,
     "metadata": {},
     "output_type": "execute_result"
    }
   ],
   "source": [
    "x.year\n",
    "x.month\n",
    "x.day\n",
    "x.minute\n",
    "x.hour\n",
    "x.second"
   ]
  },
  {
   "cell_type": "code",
   "execution_count": 55,
   "id": "6677ab7c-3bc2-4a6d-b3ed-9bbb7ffae4d0",
   "metadata": {},
   "outputs": [
    {
     "data": {
      "text/plain": [
       "array('2024-08-15', dtype='datetime64[D]')"
      ]
     },
     "execution_count": 55,
     "metadata": {},
     "output_type": "execute_result"
    }
   ],
   "source": [
    "date = np.array(\"2024-08-15\", dtype=np.datetime64)\n",
    "date"
   ]
  },
  {
   "cell_type": "code",
   "execution_count": 56,
   "id": "590d4bac-4435-4ea2-9b14-006b24a1eda9",
   "metadata": {},
   "outputs": [
    {
     "data": {
      "text/plain": [
       "array(['2024-08-15', '2024-08-16', '2024-08-17', '2024-08-18',\n",
       "       '2024-08-19', '2024-08-20', '2024-08-21', '2024-08-22',\n",
       "       '2024-08-23', '2024-08-24', '2024-08-25', '2024-08-26'],\n",
       "      dtype='datetime64[D]')"
      ]
     },
     "execution_count": 56,
     "metadata": {},
     "output_type": "execute_result"
    }
   ],
   "source": [
    "date+np.arange(12)"
   ]
  },
  {
   "cell_type": "markdown",
   "id": "ea601de1-639c-46f2-bfe1-f74bd11bc7e5",
   "metadata": {},
   "source": [
    "# date range function"
   ]
  },
  {
   "cell_type": "code",
   "execution_count": 63,
   "id": "5681f081-0926-4406-ac4e-09c3a04b1a65",
   "metadata": {},
   "outputs": [
    {
     "data": {
      "text/plain": [
       "DatetimeIndex(['2024-08-15', '2024-08-16', '2024-08-17', '2024-08-18',\n",
       "               '2024-08-19', '2024-08-20', '2024-08-21', '2024-08-22',\n",
       "               '2024-08-23', '2024-08-24', '2024-08-25', '2024-08-26',\n",
       "               '2024-08-27', '2024-08-28', '2024-08-29', '2024-08-30',\n",
       "               '2024-08-31'],\n",
       "              dtype='datetime64[ns]', freq='D')"
      ]
     },
     "execution_count": 63,
     "metadata": {},
     "output_type": "execute_result"
    }
   ],
   "source": [
    "# D - > all date from starting to end\n",
    "pd.date_range(start=\"2024-8-15\",end=\"2024-8-31\",freq=\"D\")"
   ]
  },
  {
   "cell_type": "code",
   "execution_count": 64,
   "id": "dfebeffc-dd1e-4f2b-b406-8c9248092dc0",
   "metadata": {},
   "outputs": [
    {
     "data": {
      "text/plain": [
       "DatetimeIndex(['2024-08-15', '2024-08-17', '2024-08-19', '2024-08-21',\n",
       "               '2024-08-23', '2024-08-25', '2024-08-27', '2024-08-29',\n",
       "               '2024-08-31'],\n",
       "              dtype='datetime64[ns]', freq='2D')"
      ]
     },
     "execution_count": 64,
     "metadata": {},
     "output_type": "execute_result"
    }
   ],
   "source": [
    "# 2day interval in date\n",
    "pd.date_range(start=\"2024-8-15\",end=\"2024-8-31\",freq=\"2D\")"
   ]
  },
  {
   "cell_type": "code",
   "execution_count": 65,
   "id": "17202892-5bc4-48e2-a825-7ffaf6073e29",
   "metadata": {},
   "outputs": [
    {
     "data": {
      "text/plain": [
       "DatetimeIndex(['2024-08-15', '2024-08-18', '2024-08-21', '2024-08-24',\n",
       "               '2024-08-27', '2024-08-30'],\n",
       "              dtype='datetime64[ns]', freq='3D')"
      ]
     },
     "execution_count": 65,
     "metadata": {},
     "output_type": "execute_result"
    }
   ],
   "source": [
    "# 3D -> 3day interval in date\n",
    "pd.date_range(start=\"2024-8-15\",end=\"2024-8-31\",freq=\"3D\")"
   ]
  },
  {
   "cell_type": "code",
   "execution_count": 66,
   "id": "ce808611-b891-4444-8e59-4c86b350678a",
   "metadata": {},
   "outputs": [
    {
     "data": {
      "text/plain": [
       "DatetimeIndex(['2024-08-15', '2024-08-16', '2024-08-19', '2024-08-20',\n",
       "               '2024-08-21', '2024-08-22', '2024-08-23', '2024-08-26',\n",
       "               '2024-08-27', '2024-08-28', '2024-08-29', '2024-08-30'],\n",
       "              dtype='datetime64[ns]', freq='B')"
      ]
     },
     "execution_count": 66,
     "metadata": {},
     "output_type": "execute_result"
    }
   ],
   "source": [
    "# B -> business days\n",
    "pd.date_range(start=\"2024-8-15\",end=\"2024-8-31\",freq=\"B\")"
   ]
  },
  {
   "cell_type": "code",
   "execution_count": 69,
   "id": "8ff30415-13b3-450e-9b1e-035fff62cc36",
   "metadata": {},
   "outputs": [
    {
     "data": {
      "text/plain": [
       "DatetimeIndex(['2024-08-04', '2024-08-11', '2024-08-18', '2024-08-25'], dtype='datetime64[ns]', freq='W-SUN')"
      ]
     },
     "execution_count": 69,
     "metadata": {},
     "output_type": "execute_result"
    }
   ],
   "source": [
    "# W ->  all sundays \n",
    "pd.date_range(start=\"2024-8-1\",end=\"2024-8-31\",freq=\"W\")"
   ]
  },
  {
   "cell_type": "code",
   "execution_count": 70,
   "id": "e9ee7571-7416-4b68-a70b-a6989ff6c5c6",
   "metadata": {},
   "outputs": [
    {
     "data": {
      "text/plain": [
       "DatetimeIndex(['2024-08-05', '2024-08-12', '2024-08-19', '2024-08-26'], dtype='datetime64[ns]', freq='W-MON')"
      ]
     },
     "execution_count": 70,
     "metadata": {},
     "output_type": "execute_result"
    }
   ],
   "source": [
    "# W-mon -> all munday\n",
    "pd.date_range(start=\"2024-8-1\",end=\"2024-8-31\",freq=\"W-Mon\") # monday"
   ]
  },
  {
   "cell_type": "code",
   "execution_count": 71,
   "id": "ce9964ad-00f2-4adf-87d1-1561b3f41156",
   "metadata": {},
   "outputs": [
    {
     "data": {
      "text/plain": [
       "DatetimeIndex(['2024-08-01', '2024-08-08', '2024-08-15', '2024-08-22',\n",
       "               '2024-08-29'],\n",
       "              dtype='datetime64[ns]', freq='W-THU')"
      ]
     },
     "execution_count": 71,
     "metadata": {},
     "output_type": "execute_result"
    }
   ],
   "source": [
    "pd.date_range(start=\"2024-8-1\",end=\"2024-8-31\",freq=\"W-thu\") # thursday"
   ]
  },
  {
   "cell_type": "code",
   "execution_count": 72,
   "id": "3a2f5bc2-ff9a-4522-af2d-f141e78f935f",
   "metadata": {},
   "outputs": [
    {
     "data": {
      "text/plain": [
       "DatetimeIndex(['2024-08-07', '2024-08-14', '2024-08-21', '2024-08-28'], dtype='datetime64[ns]', freq='W-WED')"
      ]
     },
     "execution_count": 72,
     "metadata": {},
     "output_type": "execute_result"
    }
   ],
   "source": [
    "pd.date_range(start=\"2024-8-1\",end=\"2024-8-31\",freq=\"W-Wed\")"
   ]
  },
  {
   "cell_type": "code",
   "execution_count": 73,
   "id": "31aa7302-7417-49de-9038-d914d7e44719",
   "metadata": {},
   "outputs": [
    {
     "data": {
      "text/plain": [
       "DatetimeIndex(['2024-08-03', '2024-08-10', '2024-08-17', '2024-08-24',\n",
       "               '2024-08-31'],\n",
       "              dtype='datetime64[ns]', freq='W-SAT')"
      ]
     },
     "execution_count": 73,
     "metadata": {},
     "output_type": "execute_result"
    }
   ],
   "source": [
    "pd.date_range(start=\"2024-8-1\",end=\"2024-8-31\",freq=\"W-sat\")"
   ]
  },
  {
   "cell_type": "code",
   "execution_count": 74,
   "id": "82430105-ada4-4082-a898-130163fc5159",
   "metadata": {},
   "outputs": [
    {
     "data": {
      "text/plain": [
       "DatetimeIndex(['2024-08-04', '2024-08-11', '2024-08-18', '2024-08-25'], dtype='datetime64[ns]', freq='W-SUN')"
      ]
     },
     "execution_count": 74,
     "metadata": {},
     "output_type": "execute_result"
    }
   ],
   "source": [
    "pd.date_range(start=\"2024-8-1\",end=\"2024-8-31\",freq=\"W-sun\")"
   ]
  },
  {
   "cell_type": "code",
   "execution_count": 75,
   "id": "14b99c62-3a0f-4a6f-910a-f17c69bd4d79",
   "metadata": {},
   "outputs": [
    {
     "data": {
      "text/plain": [
       "DatetimeIndex(['2024-08-06', '2024-08-13', '2024-08-20', '2024-08-27'], dtype='datetime64[ns]', freq='W-TUE')"
      ]
     },
     "execution_count": 75,
     "metadata": {},
     "output_type": "execute_result"
    }
   ],
   "source": [
    "pd.date_range(start=\"2024-8-1\",end=\"2024-8-31\",freq=\"W-tue\")"
   ]
  },
  {
   "cell_type": "code",
   "execution_count": 79,
   "id": "1fc9937d-6f7a-460a-b705-772b29cd03ac",
   "metadata": {},
   "outputs": [
    {
     "data": {
      "text/plain": [
       "DatetimeIndex(['2024-08-15 00:00:00', '2024-08-15 01:00:00',\n",
       "               '2024-08-15 02:00:00', '2024-08-15 03:00:00',\n",
       "               '2024-08-15 04:00:00', '2024-08-15 05:00:00',\n",
       "               '2024-08-15 06:00:00', '2024-08-15 07:00:00',\n",
       "               '2024-08-15 08:00:00', '2024-08-15 09:00:00',\n",
       "               '2024-08-15 10:00:00', '2024-08-15 11:00:00',\n",
       "               '2024-08-15 12:00:00', '2024-08-15 13:00:00',\n",
       "               '2024-08-15 14:00:00', '2024-08-15 15:00:00',\n",
       "               '2024-08-15 16:00:00', '2024-08-15 17:00:00',\n",
       "               '2024-08-15 18:00:00', '2024-08-15 19:00:00',\n",
       "               '2024-08-15 20:00:00', '2024-08-15 21:00:00',\n",
       "               '2024-08-15 22:00:00', '2024-08-15 23:00:00',\n",
       "               '2024-08-16 00:00:00'],\n",
       "              dtype='datetime64[ns]', freq='H')"
      ]
     },
     "execution_count": 79,
     "metadata": {},
     "output_type": "execute_result"
    }
   ],
   "source": [
    "# H -> Hourly data (hourly timestamp) \n",
    "pd.date_range(start=\"2024-8-15\",end=\"2024-8-16\",freq=\"H\")"
   ]
  },
  {
   "cell_type": "code",
   "execution_count": 80,
   "id": "aa5d3599-4079-4e1c-86e3-8ca53d3ea6d1",
   "metadata": {},
   "outputs": [
    {
     "data": {
      "text/plain": [
       "DatetimeIndex(['2024-08-15 00:00:00', '2024-08-15 06:00:00',\n",
       "               '2024-08-15 12:00:00', '2024-08-15 18:00:00',\n",
       "               '2024-08-16 00:00:00'],\n",
       "              dtype='datetime64[ns]', freq='6H')"
      ]
     },
     "execution_count": 80,
     "metadata": {},
     "output_type": "execute_result"
    }
   ],
   "source": [
    "# 6H -> every 6 hours\n",
    "pd.date_range(start=\"2024-8-15\",end=\"2024-8-16\",freq=\"6H\")"
   ]
  },
  {
   "cell_type": "code",
   "execution_count": 83,
   "id": "5ae43cd8-d772-4a8c-a0ad-03e3ae4b98eb",
   "metadata": {},
   "outputs": [
    {
     "data": {
      "text/plain": [
       "DatetimeIndex(['2024-02-29', '2024-03-31', '2024-04-30', '2024-05-31',\n",
       "               '2024-06-30', '2024-07-31'],\n",
       "              dtype='datetime64[ns]', freq='M')"
      ]
     },
     "execution_count": 83,
     "metadata": {},
     "output_type": "execute_result"
    }
   ],
   "source": [
    "# M -> month end (end date of every months)\n",
    "pd.date_range(start=\"2024-2-15\",end=\"2024-8-16\",freq=\"M\")"
   ]
  },
  {
   "cell_type": "code",
   "execution_count": 84,
   "id": "f57cb2ff-ffbd-4239-900a-b232eb203b27",
   "metadata": {},
   "outputs": [
    {
     "data": {
      "text/plain": [
       "DatetimeIndex(['2024-03-01', '2024-04-01', '2024-05-01', '2024-06-01',\n",
       "               '2024-07-01', '2024-08-01'],\n",
       "              dtype='datetime64[ns]', freq='MS')"
      ]
     },
     "execution_count": 84,
     "metadata": {},
     "output_type": "execute_result"
    }
   ],
   "source": [
    "# MS -> month Start (Start date of every months)\n",
    "pd.date_range(start=\"2024-2-15\",end=\"2024-8-16\",freq=\"MS\")"
   ]
  },
  {
   "cell_type": "code",
   "execution_count": 86,
   "id": "a90749a7-1be0-4ea4-ae1c-c729e8ecd7f5",
   "metadata": {},
   "outputs": [
    {
     "data": {
      "text/plain": [
       "DatetimeIndex(['2024-12-31', '2025-12-31', '2026-12-31', '2027-12-31',\n",
       "               '2028-12-31', '2029-12-31'],\n",
       "              dtype='datetime64[ns]', freq='A-DEC')"
      ]
     },
     "execution_count": 86,
     "metadata": {},
     "output_type": "execute_result"
    }
   ],
   "source": [
    "# A - >  year end \n",
    "pd.date_range(start=\"2024-2-15\",end=\"2030-8-16\",freq=\"A\")"
   ]
  },
  {
   "cell_type": "code",
   "execution_count": 89,
   "id": "88c9abb2-1feb-4154-b804-1788e79b940b",
   "metadata": {},
   "outputs": [
    {
     "data": {
      "text/plain": [
       "DatetimeIndex(['2024-02-15', '2024-02-16', '2024-02-17', '2024-02-18',\n",
       "               '2024-02-19', '2024-02-20', '2024-02-21', '2024-02-22',\n",
       "               '2024-02-23', '2024-02-24', '2024-02-25', '2024-02-26',\n",
       "               '2024-02-27', '2024-02-28', '2024-02-29', '2024-03-01',\n",
       "               '2024-03-02', '2024-03-03', '2024-03-04', '2024-03-05',\n",
       "               '2024-03-06', '2024-03-07', '2024-03-08', '2024-03-09',\n",
       "               '2024-03-10'],\n",
       "              dtype='datetime64[ns]', freq='D')"
      ]
     },
     "execution_count": 89,
     "metadata": {},
     "output_type": "execute_result"
    }
   ],
   "source": [
    "# using periods  (number of result) used for particular numbers\n",
    "pd.date_range(start=\"2024-2-15\",periods=25,freq=\"D\")"
   ]
  },
  {
   "cell_type": "code",
   "execution_count": 88,
   "id": "a430d49f-5771-4e5d-9878-fed582ab018c",
   "metadata": {},
   "outputs": [
    {
     "data": {
      "text/plain": [
       "DatetimeIndex(['2024-02-15', '2024-02-17', '2024-02-19', '2024-02-21',\n",
       "               '2024-02-23', '2024-02-25', '2024-02-27', '2024-02-29',\n",
       "               '2024-03-02', '2024-03-04', '2024-03-06', '2024-03-08',\n",
       "               '2024-03-10', '2024-03-12', '2024-03-14', '2024-03-16',\n",
       "               '2024-03-18', '2024-03-20', '2024-03-22', '2024-03-24',\n",
       "               '2024-03-26', '2024-03-28', '2024-03-30', '2024-04-01',\n",
       "               '2024-04-03'],\n",
       "              dtype='datetime64[ns]', freq='2D')"
      ]
     },
     "execution_count": 88,
     "metadata": {},
     "output_type": "execute_result"
    }
   ],
   "source": [
    "pd.date_range(start=\"2024-2-15\",periods=25,freq=\"2D\")"
   ]
  },
  {
   "cell_type": "code",
   "execution_count": 90,
   "id": "79d405fd-34ba-44ed-87dd-d50341d664e3",
   "metadata": {},
   "outputs": [
    {
     "data": {
      "text/plain": [
       "DatetimeIndex(['2024-02-15', '2024-02-25', '2024-03-06', '2024-03-16',\n",
       "               '2024-03-26', '2024-04-05', '2024-04-15', '2024-04-25',\n",
       "               '2024-05-05', '2024-05-15', '2024-05-25', '2024-06-04',\n",
       "               '2024-06-14', '2024-06-24', '2024-07-04', '2024-07-14',\n",
       "               '2024-07-24', '2024-08-03', '2024-08-13', '2024-08-23',\n",
       "               '2024-09-02', '2024-09-12', '2024-09-22', '2024-10-02',\n",
       "               '2024-10-12'],\n",
       "              dtype='datetime64[ns]', freq='10D')"
      ]
     },
     "execution_count": 90,
     "metadata": {},
     "output_type": "execute_result"
    }
   ],
   "source": [
    "pd.date_range(start=\"2024-2-15\",periods=25,freq=\"10D\")"
   ]
  },
  {
   "cell_type": "code",
   "execution_count": 92,
   "id": "dc801c1a-d2b0-47d8-b507-b33c24429a54",
   "metadata": {},
   "outputs": [
    {
     "data": {
      "text/plain": [
       "DatetimeIndex(['2024-02-15 00:00:00', '2024-02-15 01:00:00',\n",
       "               '2024-02-15 02:00:00', '2024-02-15 03:00:00',\n",
       "               '2024-02-15 04:00:00', '2024-02-15 05:00:00',\n",
       "               '2024-02-15 06:00:00', '2024-02-15 07:00:00',\n",
       "               '2024-02-15 08:00:00', '2024-02-15 09:00:00'],\n",
       "              dtype='datetime64[ns]', freq='H')"
      ]
     },
     "execution_count": 92,
     "metadata": {},
     "output_type": "execute_result"
    }
   ],
   "source": [
    "pd.date_range(start=\"2024-2-15\",periods=10,freq=\"H\")"
   ]
  },
  {
   "cell_type": "code",
   "execution_count": 93,
   "id": "297384c5-ae7c-4baf-8fcf-fae21b069bd3",
   "metadata": {},
   "outputs": [
    {
     "data": {
      "text/plain": [
       "DatetimeIndex(['2024-02-15 00:00:00', '2024-02-15 06:00:00',\n",
       "               '2024-02-15 12:00:00', '2024-02-15 18:00:00',\n",
       "               '2024-02-16 00:00:00', '2024-02-16 06:00:00',\n",
       "               '2024-02-16 12:00:00', '2024-02-16 18:00:00',\n",
       "               '2024-02-17 00:00:00', '2024-02-17 06:00:00'],\n",
       "              dtype='datetime64[ns]', freq='6H')"
      ]
     },
     "execution_count": 93,
     "metadata": {},
     "output_type": "execute_result"
    }
   ],
   "source": [
    "pd.date_range(start=\"2024-2-15\",periods=10,freq=\"6H\")"
   ]
  },
  {
   "cell_type": "code",
   "execution_count": 95,
   "id": "4fe2bca4-e24d-4912-8307-b474b03dbc97",
   "metadata": {},
   "outputs": [
    {
     "data": {
      "text/plain": [
       "DatetimeIndex(['2024-02-29', '2024-03-31', '2024-04-30', '2024-05-31',\n",
       "               '2024-06-30', '2024-07-31', '2024-08-31', '2024-09-30',\n",
       "               '2024-10-31', '2024-11-30', '2024-12-31', '2025-01-31',\n",
       "               '2025-02-28', '2025-03-31', '2025-04-30', '2025-05-31',\n",
       "               '2025-06-30', '2025-07-31', '2025-08-31', '2025-09-30',\n",
       "               '2025-10-31', '2025-11-30', '2025-12-31', '2026-01-31',\n",
       "               '2026-02-28'],\n",
       "              dtype='datetime64[ns]', freq='M')"
      ]
     },
     "execution_count": 95,
     "metadata": {},
     "output_type": "execute_result"
    }
   ],
   "source": [
    "pd.date_range(start=\"2024-2-15\",periods=25,freq=\"M\")"
   ]
  },
  {
   "cell_type": "code",
   "execution_count": null,
   "id": "8e404e7c-27d2-45bb-a5de-81128d05ef72",
   "metadata": {},
   "outputs": [],
   "source": []
  },
  {
   "cell_type": "markdown",
   "id": "de41cefb-2dc5-4cd8-a438-7ae6fb2635d4",
   "metadata": {},
   "source": [
    "# to_datetime function\n",
    "convert and existing object to pandas timestamp/datetimeindex object"
   ]
  },
  {
   "cell_type": "code",
   "execution_count": 106,
   "id": "41c4d57f-98a6-4664-8d8f-38aec476aa05",
   "metadata": {},
   "outputs": [
    {
     "data": {
      "text/plain": [
       "0    15\n",
       "1    16\n",
       "2    17\n",
       "3    18\n",
       "dtype: object"
      ]
     },
     "execution_count": 106,
     "metadata": {},
     "output_type": "execute_result"
    }
   ],
   "source": [
    "s= pd.Series([\"2024/08/15\",\"2024/08/16\",\"2024/08/17\",\"2024/08/18\"])\n",
    "# find year \n",
    "s.str.split(\"/\").str.get(0)\n",
    "# find month\n",
    "s.str.split(\"/\").str.get(1)\n",
    "# find date\n",
    "s.str.split(\"/\").str.get(2)"
   ]
  },
  {
   "cell_type": "code",
   "execution_count": 107,
   "id": "93040d0c-019e-4d95-bcb1-84e1ada711d7",
   "metadata": {},
   "outputs": [
    {
     "data": {
      "text/plain": [
       "0   2024-08-15\n",
       "1   2024-08-16\n",
       "2   2024-08-17\n",
       "3   2024-08-18\n",
       "dtype: datetime64[ns]"
      ]
     },
     "execution_count": 107,
     "metadata": {},
     "output_type": "execute_result"
    }
   ],
   "source": [
    "# convert series date time data into datetime\n",
    "pd.to_datetime(s)"
   ]
  },
  {
   "cell_type": "code",
   "execution_count": 108,
   "id": "bdb9e564-1c72-46a2-bb1d-4a0e29717a15",
   "metadata": {},
   "outputs": [
    {
     "data": {
      "text/plain": [
       "0    Thursday\n",
       "1      Friday\n",
       "2    Saturday\n",
       "3      Sunday\n",
       "dtype: object"
      ]
     },
     "execution_count": 108,
     "metadata": {},
     "output_type": "execute_result"
    }
   ],
   "source": [
    "# fetch day name\n",
    "pd.to_datetime(s).dt.day_name()"
   ]
  },
  {
   "cell_type": "code",
   "execution_count": 115,
   "id": "2454f640-1913-4496-929a-d07e020941f1",
   "metadata": {},
   "outputs": [
    {
     "data": {
      "text/plain": [
       "0     2024/08/15\n",
       "1     2024/08/16\n",
       "2     2024/08/17\n",
       "3    2024/130/18\n",
       "dtype: object"
      ]
     },
     "metadata": {},
     "output_type": "display_data"
    },
    {
     "name": "stdout",
     "output_type": "stream",
     "text": [
      "\n"
     ]
    },
    {
     "data": {
      "text/plain": [
       "0   2024-08-15\n",
       "1   2024-08-16\n",
       "2   2024-08-17\n",
       "3          NaT\n",
       "dtype: datetime64[ns]"
      ]
     },
     "execution_count": 115,
     "metadata": {},
     "output_type": "execute_result"
    }
   ],
   "source": [
    "s= pd.Series([\"2024/08/15\",\"2024/08/16\",\"2024/08/17\",\"2024/130/18\"])\n",
    "display(s)\n",
    "print()\n",
    "pd.to_datetime(s,errors=\"coerce\")\n",
    "\n",
    "# NaT - not a time"
   ]
  },
  {
   "cell_type": "code",
   "execution_count": 113,
   "id": "eafc7c29-2352-4c33-82ea-1973efd0551b",
   "metadata": {},
   "outputs": [
    {
     "data": {
      "text/plain": [
       "0    Thursday\n",
       "1      Friday\n",
       "2    Saturday\n",
       "3         NaN\n",
       "dtype: object"
      ]
     },
     "execution_count": 113,
     "metadata": {},
     "output_type": "execute_result"
    }
   ],
   "source": [
    "pd.to_datetime(s,errors=\"coerce\").dt.day_name()"
   ]
  },
  {
   "cell_type": "code",
   "execution_count": 116,
   "id": "660c51a7-c4ab-46aa-bcbb-7e2757bf17c8",
   "metadata": {},
   "outputs": [
    {
     "data": {
      "text/plain": [
       "0    August\n",
       "1    August\n",
       "2    August\n",
       "3       NaN\n",
       "dtype: object"
      ]
     },
     "execution_count": 116,
     "metadata": {},
     "output_type": "execute_result"
    }
   ],
   "source": [
    "pd.to_datetime(s,errors=\"coerce\").dt.month_name()"
   ]
  },
  {
   "cell_type": "code",
   "execution_count": null,
   "id": "6a033fd1-2bf5-40c6-bf09-d5bfe138de78",
   "metadata": {},
   "outputs": [],
   "source": []
  },
  {
   "cell_type": "code",
   "execution_count": 119,
   "id": "4de4b851-f359-49ac-8b0f-697a908e4751",
   "metadata": {},
   "outputs": [
    {
     "data": {
      "text/html": [
       "<div>\n",
       "<style scoped>\n",
       "    .dataframe tbody tr th:only-of-type {\n",
       "        vertical-align: middle;\n",
       "    }\n",
       "\n",
       "    .dataframe tbody tr th {\n",
       "        vertical-align: top;\n",
       "    }\n",
       "\n",
       "    .dataframe thead th {\n",
       "        text-align: right;\n",
       "    }\n",
       "</style>\n",
       "<table border=\"1\" class=\"dataframe\">\n",
       "  <thead>\n",
       "    <tr style=\"text-align: right;\">\n",
       "      <th></th>\n",
       "      <th>Date</th>\n",
       "      <th>Account</th>\n",
       "      <th>Category</th>\n",
       "      <th>Subcategory</th>\n",
       "      <th>Note</th>\n",
       "      <th>INR</th>\n",
       "      <th>Income/Expense</th>\n",
       "      <th>Note.1</th>\n",
       "      <th>Amount</th>\n",
       "      <th>Currency</th>\n",
       "      <th>Account.1</th>\n",
       "    </tr>\n",
       "  </thead>\n",
       "  <tbody>\n",
       "    <tr>\n",
       "      <th>0</th>\n",
       "      <td>3/2/2022 10:11</td>\n",
       "      <td>CUB - online payment</td>\n",
       "      <td>Food</td>\n",
       "      <td>NaN</td>\n",
       "      <td>Brownie</td>\n",
       "      <td>50.0</td>\n",
       "      <td>Expense</td>\n",
       "      <td>NaN</td>\n",
       "      <td>50.0</td>\n",
       "      <td>INR</td>\n",
       "      <td>50.0</td>\n",
       "    </tr>\n",
       "    <tr>\n",
       "      <th>1</th>\n",
       "      <td>3/2/2022 10:11</td>\n",
       "      <td>CUB - online payment</td>\n",
       "      <td>Other</td>\n",
       "      <td>NaN</td>\n",
       "      <td>To lended people</td>\n",
       "      <td>300.0</td>\n",
       "      <td>Expense</td>\n",
       "      <td>NaN</td>\n",
       "      <td>300.0</td>\n",
       "      <td>INR</td>\n",
       "      <td>300.0</td>\n",
       "    </tr>\n",
       "    <tr>\n",
       "      <th>2</th>\n",
       "      <td>3/1/2022 19:50</td>\n",
       "      <td>CUB - online payment</td>\n",
       "      <td>Food</td>\n",
       "      <td>NaN</td>\n",
       "      <td>Dinner</td>\n",
       "      <td>78.0</td>\n",
       "      <td>Expense</td>\n",
       "      <td>NaN</td>\n",
       "      <td>78.0</td>\n",
       "      <td>INR</td>\n",
       "      <td>78.0</td>\n",
       "    </tr>\n",
       "    <tr>\n",
       "      <th>3</th>\n",
       "      <td>3/1/2022 18:56</td>\n",
       "      <td>CUB - online payment</td>\n",
       "      <td>Transportation</td>\n",
       "      <td>NaN</td>\n",
       "      <td>Metro</td>\n",
       "      <td>30.0</td>\n",
       "      <td>Expense</td>\n",
       "      <td>NaN</td>\n",
       "      <td>30.0</td>\n",
       "      <td>INR</td>\n",
       "      <td>30.0</td>\n",
       "    </tr>\n",
       "  </tbody>\n",
       "</table>\n",
       "</div>"
      ],
      "text/plain": [
       "             Date               Account        Category  Subcategory  \\\n",
       "0  3/2/2022 10:11  CUB - online payment            Food          NaN   \n",
       "1  3/2/2022 10:11  CUB - online payment           Other          NaN   \n",
       "2  3/1/2022 19:50  CUB - online payment            Food          NaN   \n",
       "3  3/1/2022 18:56  CUB - online payment  Transportation          NaN   \n",
       "\n",
       "               Note    INR Income/Expense  Note.1  Amount Currency  Account.1  \n",
       "0           Brownie   50.0        Expense     NaN    50.0      INR       50.0  \n",
       "1  To lended people  300.0        Expense     NaN   300.0      INR      300.0  \n",
       "2            Dinner   78.0        Expense     NaN    78.0      INR       78.0  \n",
       "3             Metro   30.0        Expense     NaN    30.0      INR       30.0  "
      ]
     },
     "execution_count": 119,
     "metadata": {},
     "output_type": "execute_result"
    }
   ],
   "source": [
    "exp=pd.read_csv(r\"C:\\Users\\DELL\\Desktop\\pythonn\\campus x\\session-datasets-20240731T033422Z-001\\datasets-session-22\\expense_data.csv\")\n",
    "exp.head(4)"
   ]
  },
  {
   "cell_type": "code",
   "execution_count": 121,
   "id": "25d00807-c736-4329-8fea-4e8367fb647e",
   "metadata": {},
   "outputs": [
    {
     "name": "stdout",
     "output_type": "stream",
     "text": [
      "<class 'pandas.core.frame.DataFrame'>\n",
      "RangeIndex: 277 entries, 0 to 276\n",
      "Data columns (total 11 columns):\n",
      " #   Column          Non-Null Count  Dtype  \n",
      "---  ------          --------------  -----  \n",
      " 0   Date            277 non-null    object \n",
      " 1   Account         277 non-null    object \n",
      " 2   Category        277 non-null    object \n",
      " 3   Subcategory     0 non-null      float64\n",
      " 4   Note            273 non-null    object \n",
      " 5   INR             277 non-null    float64\n",
      " 6   Income/Expense  277 non-null    object \n",
      " 7   Note.1          0 non-null      float64\n",
      " 8   Amount          277 non-null    float64\n",
      " 9   Currency        277 non-null    object \n",
      " 10  Account.1       277 non-null    float64\n",
      "dtypes: float64(5), object(6)\n",
      "memory usage: 23.9+ KB\n"
     ]
    }
   ],
   "source": [
    "exp.info()"
   ]
  },
  {
   "cell_type": "code",
   "execution_count": 123,
   "id": "ad66c1cf-4558-4b05-b432-436431755b7c",
   "metadata": {},
   "outputs": [],
   "source": [
    "exp[\"Date\"]=pd.to_datetime(exp[\"Date\"])"
   ]
  },
  {
   "cell_type": "code",
   "execution_count": 126,
   "id": "28f98164-86d1-48f7-9477-47f986d5fdf7",
   "metadata": {},
   "outputs": [
    {
     "name": "stdout",
     "output_type": "stream",
     "text": [
      "<class 'pandas.core.frame.DataFrame'>\n",
      "RangeIndex: 277 entries, 0 to 276\n",
      "Data columns (total 11 columns):\n",
      " #   Column          Non-Null Count  Dtype         \n",
      "---  ------          --------------  -----         \n",
      " 0   Date            277 non-null    datetime64[ns]\n",
      " 1   Account         277 non-null    object        \n",
      " 2   Category        277 non-null    object        \n",
      " 3   Subcategory     0 non-null      float64       \n",
      " 4   Note            273 non-null    object        \n",
      " 5   INR             277 non-null    float64       \n",
      " 6   Income/Expense  277 non-null    object        \n",
      " 7   Note.1          0 non-null      float64       \n",
      " 8   Amount          277 non-null    float64       \n",
      " 9   Currency        277 non-null    object        \n",
      " 10  Account.1       277 non-null    float64       \n",
      "dtypes: datetime64[ns](1), float64(5), object(5)\n",
      "memory usage: 23.9+ KB\n"
     ]
    }
   ],
   "source": [
    "exp.info()"
   ]
  },
  {
   "cell_type": "code",
   "execution_count": 127,
   "id": "264781ca-ad06-4ba7-b2f5-91b30ee3db15",
   "metadata": {},
   "outputs": [
    {
     "data": {
      "text/plain": [
       "0      2022\n",
       "1      2022\n",
       "2      2022\n",
       "3      2022\n",
       "4      2022\n",
       "       ... \n",
       "272    2021\n",
       "273    2021\n",
       "274    2021\n",
       "275    2021\n",
       "276    2021\n",
       "Name: Date, Length: 277, dtype: int32"
      ]
     },
     "execution_count": 127,
     "metadata": {},
     "output_type": "execute_result"
    }
   ],
   "source": [
    "exp[\"Date\"].dt.year"
   ]
  },
  {
   "cell_type": "code",
   "execution_count": 128,
   "id": "04ca48da-4ac2-43cf-b887-5a262e6f144d",
   "metadata": {},
   "outputs": [
    {
     "data": {
      "text/plain": [
       "0       3\n",
       "1       3\n",
       "2       3\n",
       "3       3\n",
       "4       3\n",
       "       ..\n",
       "272    11\n",
       "273    11\n",
       "274    11\n",
       "275    11\n",
       "276    11\n",
       "Name: Date, Length: 277, dtype: int32"
      ]
     },
     "execution_count": 128,
     "metadata": {},
     "output_type": "execute_result"
    }
   ],
   "source": [
    "exp[\"Date\"].dt.month"
   ]
  },
  {
   "cell_type": "code",
   "execution_count": 129,
   "id": "87648133-d363-4604-8239-50051190a6ce",
   "metadata": {},
   "outputs": [
    {
     "data": {
      "text/plain": [
       "0       2\n",
       "1       2\n",
       "2       1\n",
       "3       1\n",
       "4       1\n",
       "       ..\n",
       "272    22\n",
       "273    22\n",
       "274    21\n",
       "275    21\n",
       "276    21\n",
       "Name: Date, Length: 277, dtype: int32"
      ]
     },
     "execution_count": 129,
     "metadata": {},
     "output_type": "execute_result"
    }
   ],
   "source": [
    "exp[\"Date\"].dt.day"
   ]
  },
  {
   "cell_type": "code",
   "execution_count": 130,
   "id": "ac03ef7c-d46c-489b-a09c-e29c581da294",
   "metadata": {},
   "outputs": [
    {
     "data": {
      "text/plain": [
       "0      Wednesday\n",
       "1      Wednesday\n",
       "2        Tuesday\n",
       "3        Tuesday\n",
       "4        Tuesday\n",
       "         ...    \n",
       "272       Monday\n",
       "273       Monday\n",
       "274       Sunday\n",
       "275       Sunday\n",
       "276       Sunday\n",
       "Name: Date, Length: 277, dtype: object"
      ]
     },
     "execution_count": 130,
     "metadata": {},
     "output_type": "execute_result"
    }
   ],
   "source": [
    "exp[\"Date\"].dt.day_name()"
   ]
  },
  {
   "cell_type": "code",
   "execution_count": 131,
   "id": "ef55a6e7-b1a1-4092-a786-dc5f780fc5db",
   "metadata": {},
   "outputs": [
    {
     "data": {
      "text/plain": [
       "0         March\n",
       "1         March\n",
       "2         March\n",
       "3         March\n",
       "4         March\n",
       "         ...   \n",
       "272    November\n",
       "273    November\n",
       "274    November\n",
       "275    November\n",
       "276    November\n",
       "Name: Date, Length: 277, dtype: object"
      ]
     },
     "execution_count": 131,
     "metadata": {},
     "output_type": "execute_result"
    }
   ],
   "source": [
    "exp[\"Date\"].dt.month_name()"
   ]
  },
  {
   "cell_type": "code",
   "execution_count": 135,
   "id": "5946e630-9a87-457e-b2f7-1719680e3d9e",
   "metadata": {},
   "outputs": [
    {
     "data": {
      "text/plain": [
       "Series([], Name: Date, dtype: datetime64[ns])"
      ]
     },
     "execution_count": 135,
     "metadata": {},
     "output_type": "execute_result"
    }
   ],
   "source": [
    "exp[\"Date\"][exp[\"Date\"].dt.is_quarter_end]"
   ]
  },
  {
   "cell_type": "code",
   "execution_count": 134,
   "id": "c5552b9b-2c7b-478e-80cc-1d1ca26d2ea9",
   "metadata": {},
   "outputs": [
    {
     "data": {
      "text/plain": [
       "151   2022-01-01 21:46:00\n",
       "152   2022-01-01 21:45:00\n",
       "Name: Date, dtype: datetime64[ns]"
      ]
     },
     "execution_count": 134,
     "metadata": {},
     "output_type": "execute_result"
    }
   ],
   "source": [
    "exp[\"Date\"][exp[\"Date\"].dt.is_quarter_start]"
   ]
  },
  {
   "cell_type": "code",
   "execution_count": null,
   "id": "f4abf23d-52cb-4dc9-8037-42ddd8ed44f3",
   "metadata": {},
   "outputs": [],
   "source": []
  },
  {
   "cell_type": "markdown",
   "id": "5e39e2ea-9111-4645-a47d-d3fd719c324a",
   "metadata": {},
   "source": [
    "# ploting"
   ]
  },
  {
   "cell_type": "code",
   "execution_count": 136,
   "id": "91318bd3-e309-48d7-9cac-b7ceaec236ef",
   "metadata": {},
   "outputs": [],
   "source": [
    "import matplotlib.pyplot as plt"
   ]
  },
  {
   "cell_type": "code",
   "execution_count": 137,
   "id": "9a7eaebc-3358-45cf-8f62-5e8f7ee4d5fa",
   "metadata": {},
   "outputs": [
    {
     "data": {
      "text/plain": [
       "[<matplotlib.lines.Line2D at 0x18cabe211d0>]"
      ]
     },
     "execution_count": 137,
     "metadata": {},
     "output_type": "execute_result"
    },
    {
     "data": {
      "image/png": "[encoded data removed]",
      "text/plain": [
       "<Figure size 640x480 with 1 Axes>"
      ]
     },
     "metadata": {},
     "output_type": "display_data"
    }
   ],
   "source": [
    "plt.plot(exp[\"Date\"],exp[\"INR\"])"
   ]
  },
  {
   "cell_type": "code",
   "execution_count": null,
   "id": "6e79ded7-4b12-4ad0-91d7-26c457eecab7",
   "metadata": {},
   "outputs": [],
   "source": [
    "# day wise bar chart / month wise bar chart \n",
    "\n",
    "plt.plot(exp[\"Date\"],exp[\"INR\"])"
   ]
  },
  {
   "cell_type": "code",
   "execution_count": null,
   "id": "e0cac33b-729e-4855-b80c-f1ae009fccc3",
   "metadata": {},
   "outputs": [],
   "source": []
  },
  {
   "cell_type": "code",
   "execution_count": 4,
   "id": "6700f019-2ad5-4c26-8ef7-4afbbc6ecd57",
   "metadata": {},
   "outputs": [
    {
     "name": "stdin",
     "output_type": "stream",
     "text": [
      "enter hours 5\n",
      "enter minutes 10\n",
      "enter second 2\n"
     ]
    },
    {
     "name": "stdout",
     "output_type": "stream",
     "text": [
      "1 : 1 : 1\n",
      "------------\n",
      "1 : 1 : 2\n",
      "------------\n",
      "1 : 2 : 1\n",
      "------------\n",
      "1 : 2 : 2\n",
      "------------\n",
      "1 : 3 : 1\n",
      "------------\n",
      "1 : 3 : 2\n",
      "------------\n",
      "1 : 4 : 1\n",
      "------------\n",
      "1 : 4 : 2\n",
      "------------\n",
      "1 : 5 : 1\n",
      "------------\n",
      "1 : 5 : 2\n",
      "------------\n",
      "1 : 6 : 1\n",
      "------------\n",
      "1 : 6 : 2\n",
      "------------\n",
      "1 : 7 : 1\n",
      "------------\n",
      "1 : 7 : 2\n",
      "------------\n",
      "1 : 8 : 1\n",
      "------------\n",
      "1 : 8 : 2\n",
      "------------\n",
      "1 : 9 : 1\n",
      "------------\n",
      "1 : 9 : 2\n",
      "------------\n",
      "1 : 10 : 1\n",
      "------------\n",
      "1 : 10 : 2\n",
      "------------\n",
      "\n",
      "2 : 1 : 1\n",
      "------------\n",
      "2 : 1 : 2\n",
      "------------\n",
      "2 : 2 : 1\n",
      "------------\n",
      "2 : 2 : 2\n",
      "------------\n",
      "2 : 3 : 1\n",
      "------------\n",
      "2 : 3 : 2\n",
      "------------\n",
      "2 : 4 : 1\n",
      "------------\n",
      "2 : 4 : 2\n",
      "------------\n",
      "2 : 5 : 1\n",
      "------------\n",
      "2 : 5 : 2\n",
      "------------\n",
      "2 : 6 : 1\n",
      "------------\n",
      "2 : 6 : 2\n",
      "------------\n",
      "2 : 7 : 1\n",
      "------------\n",
      "2 : 7 : 2\n",
      "------------\n",
      "2 : 8 : 1\n",
      "------------\n",
      "2 : 8 : 2\n",
      "------------\n",
      "2 : 9 : 1\n",
      "------------\n",
      "2 : 9 : 2\n",
      "------------\n",
      "2 : 10 : 1\n",
      "------------\n",
      "2 : 10 : 2\n",
      "------------\n",
      "\n",
      "3 : 1 : 1\n",
      "------------\n",
      "3 : 1 : 2\n",
      "------------\n",
      "3 : 2 : 1\n",
      "------------\n",
      "3 : 2 : 2\n",
      "------------\n",
      "3 : 3 : 1\n",
      "------------\n",
      "3 : 3 : 2\n",
      "------------\n",
      "3 : 4 : 1\n",
      "------------\n",
      "3 : 4 : 2\n",
      "------------\n",
      "3 : 5 : 1\n",
      "------------\n",
      "3 : 5 : 2\n",
      "------------\n",
      "3 : 6 : 1\n",
      "------------\n",
      "3 : 6 : 2\n",
      "------------\n",
      "3 : 7 : 1\n",
      "------------\n",
      "3 : 7 : 2\n",
      "------------\n",
      "3 : 8 : 1\n",
      "------------\n",
      "3 : 8 : 2\n",
      "------------\n",
      "3 : 9 : 1\n",
      "------------\n",
      "3 : 9 : 2\n",
      "------------\n",
      "3 : 10 : 1\n",
      "------------\n",
      "3 : 10 : 2\n",
      "------------\n",
      "\n",
      "4 : 1 : 1\n",
      "------------\n",
      "4 : 1 : 2\n",
      "------------\n",
      "4 : 2 : 1\n",
      "------------\n",
      "4 : 2 : 2\n",
      "------------\n",
      "4 : 3 : 1\n",
      "------------\n",
      "4 : 3 : 2\n",
      "------------\n",
      "4 : 4 : 1\n",
      "------------\n",
      "4 : 4 : 2\n",
      "------------\n",
      "4 : 5 : 1\n",
      "------------\n",
      "4 : 5 : 2\n",
      "------------\n",
      "4 : 6 : 1\n",
      "------------\n",
      "4 : 6 : 2\n",
      "------------\n",
      "4 : 7 : 1\n",
      "------------\n",
      "4 : 7 : 2\n",
      "------------\n",
      "4 : 8 : 1\n",
      "------------\n",
      "4 : 8 : 2\n",
      "------------\n",
      "4 : 9 : 1\n",
      "------------\n",
      "4 : 9 : 2\n",
      "------------\n",
      "4 : 10 : 1\n",
      "------------\n",
      "4 : 10 : 2\n",
      "------------\n",
      "\n",
      "5 : 1 : 1\n",
      "------------\n",
      "5 : 1 : 2\n",
      "------------\n",
      "5 : 2 : 1\n",
      "------------\n",
      "5 : 2 : 2\n",
      "------------\n",
      "5 : 3 : 1\n",
      "------------\n",
      "5 : 3 : 2\n",
      "------------\n",
      "5 : 4 : 1\n",
      "------------\n",
      "5 : 4 : 2\n",
      "------------\n",
      "5 : 5 : 1\n",
      "------------\n",
      "5 : 5 : 2\n",
      "------------\n",
      "5 : 6 : 1\n",
      "------------\n",
      "5 : 6 : 2\n",
      "------------\n",
      "5 : 7 : 1\n",
      "------------\n",
      "5 : 7 : 2\n",
      "------------\n",
      "5 : 8 : 1\n",
      "------------\n",
      "5 : 8 : 2\n",
      "------------\n",
      "5 : 9 : 1\n",
      "------------\n",
      "5 : 9 : 2\n",
      "------------\n",
      "5 : 10 : 1\n",
      "------------\n",
      "5 : 10 : 2\n",
      "------------\n",
      "\n"
     ]
    }
   ],
   "source": [
    "h=int(input(\"enter hours\"))\n",
    "m=int(input(\"enter minutes\"))\n",
    "s=int(input(\"enter second\"))\n",
    "for i in range(1,h+1):\n",
    "    for k in range(1,m+1):\n",
    "        for j in range(1,s+1):\n",
    "            print(i,\":\",k,\":\",j)\n",
    "            print(\"------------\")\n",
    "    print()\n",
    "    "
   ]
  },
  {
   "cell_type": "code",
   "execution_count": null,
   "id": "851dade6-ae4d-4e0c-a918-8145b11dd1a9",
   "metadata": {},
   "outputs": [],
   "source": []
  }
 ],
 "metadata": {
  "kernelspec": {
   "display_name": "Python 3 (ipykernel)",
   "language": "python",
   "name": "python3"
  },
  "language_info": {
   "codemirror_mode": {
    "name": "ipython",
    "version": 3
   },
   "file_extension": ".py",
   "mimetype": "text/x-python",
   "name": "python",
   "nbconvert_exporter": "python",
   "pygments_lexer": "ipython3",
   "version": "3.11.7"
  },
  "widgets": {
   "application/vnd.jupyter.widget-state+json": {
    "state": {},
    "version_major": 2,
    "version_minor": 0
   }
  }
 },
 "nbformat": 4,
 "nbformat_minor": 5
}
