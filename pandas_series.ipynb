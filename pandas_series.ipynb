{
 "cells": [
  {
   "cell_type": "raw",
   "id": "72a2ebfa-3015-44a9-af1c-9ad96319a65c",
   "metadata": {},
   "source": [
    "pandas used to analysis and manipulating data too"
   ]
  },
  {
   "cell_type": "code",
   "execution_count": 14,
   "id": "f432bd2d-4233-4e13-b690-7f7bb4f318f6",
   "metadata": {},
   "outputs": [],
   "source": [
    "import numpy as np\n",
    "import pandas as pd"
   ]
  },
  {
   "cell_type": "markdown",
   "id": "590f4ccd-7f0e-420d-b010-3afd76917808",
   "metadata": {},
   "source": [
    "# Pandas Series:\n",
    "\n",
    "is like a column in a table. it is 1-D array holding any type of data \n",
    "\n",
    "we can create series from list and dictionary."
   ]
  },
  {
   "cell_type": "markdown",
   "id": "6715f13e-a61d-4b3d-8c16-53e72d1ea914",
   "metadata": {},
   "source": [
    "# creating series:"
   ]
  },
  {
   "cell_type": "code",
   "execution_count": 15,
   "id": "0fa528e1-9adb-48b0-a165-604c99ee2dc9",
   "metadata": {},
   "outputs": [
    {
     "name": "stdout",
     "output_type": "stream",
     "text": [
      "0            india\n",
      "1       shri lanka\n",
      "2            tiwan\n",
      "3        australia\n",
      "4    shouth africa\n",
      "5          england\n",
      "6              USA\n",
      "dtype: object\n"
     ]
    }
   ],
   "source": [
    "# string\n",
    "country=[\"india\", \"shri lanka\",\"tiwan\",\"australia\",\"shouth africa\",\"england\",\"USA\" ]\n",
    "print(pd.Series(country))"
   ]
  },
  {
   "cell_type": "code",
   "execution_count": 16,
   "id": "8ef17a88-8e07-4e0b-8f18-048ee30efe6f",
   "metadata": {},
   "outputs": [
    {
     "data": {
      "text/plain": [
       "0     1000\n",
       "1     2000\n",
       "2     5000\n",
       "3    10000\n",
       "4    25000\n",
       "dtype: int64"
      ]
     },
     "execution_count": 16,
     "metadata": {},
     "output_type": "execute_result"
    }
   ],
   "source": [
    "# integer\n",
    "salary=[1000,2000,5000,10000,25000]\n",
    "pd.Series(salary)"
   ]
  },
  {
   "cell_type": "code",
   "execution_count": 17,
   "id": "fb4bb999-f01b-4058-9f19-c93f35629f8a",
   "metadata": {},
   "outputs": [
    {
     "ename": "NameError",
     "evalue": "name 'subject' is not defined",
     "output_type": "error",
     "traceback": [
      "\u001b[1;31m---------------------------------------------------------------------------\u001b[0m",
      "\u001b[1;31mNameError\u001b[0m                                 Traceback (most recent call last)",
      "Cell \u001b[1;32mIn[17], line 6\u001b[0m\n\u001b[0;32m      3\u001b[0m sub\u001b[38;5;241m=\u001b[39m[\u001b[38;5;124m\"\u001b[39m\u001b[38;5;124meng\u001b[39m\u001b[38;5;124m\"\u001b[39m,\u001b[38;5;124m\"\u001b[39m\u001b[38;5;124mmath\u001b[39m\u001b[38;5;124m\"\u001b[39m,\u001b[38;5;124m\"\u001b[39m\u001b[38;5;124mbio\u001b[39m\u001b[38;5;124m\"\u001b[39m,\u001b[38;5;124m\"\u001b[39m\u001b[38;5;124mphy\u001b[39m\u001b[38;5;124m\"\u001b[39m,\u001b[38;5;124m\"\u001b[39m\u001b[38;5;124mchem\u001b[39m\u001b[38;5;124m\"\u001b[39m]\n\u001b[0;32m      5\u001b[0m \u001b[38;5;66;03m# pd.Series(list, index=index labels(will become index))\u001b[39;00m\n\u001b[1;32m----> 6\u001b[0m pd\u001b[38;5;241m.\u001b[39mSeries(marks,index\u001b[38;5;241m=\u001b[39msubject)\n",
      "\u001b[1;31mNameError\u001b[0m: name 'subject' is not defined"
     ]
    }
   ],
   "source": [
    "# custom index:\n",
    "marks=[33,85,72,53,75]\n",
    "sub=[\"eng\",\"math\",\"bio\",\"phy\",\"chem\"]\n",
    "\n",
    "# pd.Series(list, index=index labels(will become index))\n",
    "pd.Series(marks,index=subject)"
   ]
  },
  {
   "cell_type": "code",
   "execution_count": null,
   "id": "89d9cf21-3769-4264-9b75-996dc73babd4",
   "metadata": {},
   "outputs": [],
   "source": [
    "# give name to series\n",
    "pd.Series(marks,index=sub,name=\"Nishant Result\")"
   ]
  },
  {
   "cell_type": "markdown",
   "id": "b664ada1-0d2a-4123-81d0-2f1e59f45685",
   "metadata": {},
   "source": [
    "# Series from dict"
   ]
  },
  {
   "cell_type": "code",
   "execution_count": 18,
   "id": "5abcb650-32a9-4082-8e40-0e8f72e0527c",
   "metadata": {},
   "outputs": [
    {
     "data": {
      "text/plain": [
       "math    85\n",
       "eng     33\n",
       "phy     53\n",
       "chem    75\n",
       "bio     72\n",
       "Name: Result Card, dtype: int64"
      ]
     },
     "execution_count": 18,
     "metadata": {},
     "output_type": "execute_result"
    }
   ],
   "source": [
    "result_card={\n",
    "    \"math\":85,\n",
    "    \"eng\":33,\n",
    "    \"phy\":53,\n",
    "    \"chem\":75,\n",
    "    \"bio\":72  \n",
    "}\n",
    "marks_series=pd.Series(result_card,name=\"Result Card\")\n",
    "marks_series"
   ]
  },
  {
   "cell_type": "markdown",
   "id": "c20094e3-1005-4d41-8b44-9f97905987ad",
   "metadata": {},
   "source": [
    "# Series Attributes"
   ]
  },
  {
   "cell_type": "markdown",
   "id": "34b1362d-89c5-42d4-b4b0-94912cbb2b02",
   "metadata": {},
   "source": [
    "# size"
   ]
  },
  {
   "cell_type": "code",
   "execution_count": 19,
   "id": "89876b57-164e-4db1-ad23-db8f0467c153",
   "metadata": {},
   "outputs": [
    {
     "ename": "AttributeError",
     "evalue": "'dict' object has no attribute 'size'",
     "output_type": "error",
     "traceback": [
      "\u001b[1;31m---------------------------------------------------------------------------\u001b[0m",
      "\u001b[1;31mAttributeError\u001b[0m                            Traceback (most recent call last)",
      "Cell \u001b[1;32mIn[19], line 2\u001b[0m\n\u001b[0;32m      1\u001b[0m \u001b[38;5;66;03m# will give total number of items in the the series\u001b[39;00m\n\u001b[1;32m----> 2\u001b[0m result_card\u001b[38;5;241m.\u001b[39msize\n",
      "\u001b[1;31mAttributeError\u001b[0m: 'dict' object has no attribute 'size'"
     ]
    }
   ],
   "source": [
    "# will give total number of items in the the series\n",
    "result_card.size"
   ]
  },
  {
   "cell_type": "code",
   "execution_count": 20,
   "id": "da54f4c5-865c-4ec8-a9d1-480f760b70a5",
   "metadata": {},
   "outputs": [
    {
     "ename": "AttributeError",
     "evalue": "'dict' object has no attribute 'dtype'",
     "output_type": "error",
     "traceback": [
      "\u001b[1;31m---------------------------------------------------------------------------\u001b[0m",
      "\u001b[1;31mAttributeError\u001b[0m                            Traceback (most recent call last)",
      "Cell \u001b[1;32mIn[20], line 1\u001b[0m\n\u001b[1;32m----> 1\u001b[0m result_card\u001b[38;5;241m.\u001b[39mdtype\n",
      "\u001b[1;31mAttributeError\u001b[0m: 'dict' object has no attribute 'dtype'"
     ]
    }
   ],
   "source": [
    "result_card.dtype"
   ]
  },
  {
   "cell_type": "code",
   "execution_count": 21,
   "id": "417622eb-04c6-4027-a877-96da5a04b94c",
   "metadata": {},
   "outputs": [
    {
     "ename": "NameError",
     "evalue": "name 'n' is not defined",
     "output_type": "error",
     "traceback": [
      "\u001b[1;31m---------------------------------------------------------------------------\u001b[0m",
      "\u001b[1;31mNameError\u001b[0m                                 Traceback (most recent call last)",
      "Cell \u001b[1;32mIn[21], line 1\u001b[0m\n\u001b[1;32m----> 1\u001b[0m n\u001b[38;5;241m.\u001b[39mname\n",
      "\u001b[1;31mNameError\u001b[0m: name 'n' is not defined"
     ]
    }
   ],
   "source": [
    "n.name"
   ]
  },
  {
   "cell_type": "code",
   "execution_count": 22,
   "id": "9f595f4a-6390-48ca-9ea0-78c3eef8343c",
   "metadata": {},
   "outputs": [
    {
     "ename": "NameError",
     "evalue": "name 'n' is not defined",
     "output_type": "error",
     "traceback": [
      "\u001b[1;31m---------------------------------------------------------------------------\u001b[0m",
      "\u001b[1;31mNameError\u001b[0m                                 Traceback (most recent call last)",
      "Cell \u001b[1;32mIn[22], line 1\u001b[0m\n\u001b[1;32m----> 1\u001b[0m n\u001b[38;5;241m.\u001b[39mis_unique\n",
      "\u001b[1;31mNameError\u001b[0m: name 'n' is not defined"
     ]
    }
   ],
   "source": [
    "n.is_unique"
   ]
  },
  {
   "cell_type": "code",
   "execution_count": 23,
   "id": "1d134a7f-7d98-42c8-a9e7-6b0059e2b878",
   "metadata": {},
   "outputs": [
    {
     "ename": "NameError",
     "evalue": "name 'n' is not defined",
     "output_type": "error",
     "traceback": [
      "\u001b[1;31m---------------------------------------------------------------------------\u001b[0m",
      "\u001b[1;31mNameError\u001b[0m                                 Traceback (most recent call last)",
      "Cell \u001b[1;32mIn[23], line 1\u001b[0m\n\u001b[1;32m----> 1\u001b[0m n\u001b[38;5;241m.\u001b[39mindex\n",
      "\u001b[1;31mNameError\u001b[0m: name 'n' is not defined"
     ]
    }
   ],
   "source": [
    "n.index"
   ]
  },
  {
   "cell_type": "code",
   "execution_count": 24,
   "id": "66d28b99-f1a8-481c-8358-798bea1e46b8",
   "metadata": {},
   "outputs": [
    {
     "name": "stdout",
     "output_type": "stream",
     "text": [
      "0    13\n",
      "1    24\n",
      "2    25\n",
      "3    32\n",
      "4    45\n",
      "5    62\n",
      "dtype: int64\n"
     ]
    },
    {
     "data": {
      "text/plain": [
       "RangeIndex(start=0, stop=6, step=1)"
      ]
     },
     "execution_count": 24,
     "metadata": {},
     "output_type": "execute_result"
    }
   ],
   "source": [
    "runs=[13,24,25,32,45,62]\n",
    "runs_ser=pd.Series(runs)\n",
    "print(runs_ser)\n",
    "runs_ser.index"
   ]
  },
  {
   "cell_type": "code",
   "execution_count": 25,
   "id": "68617c9c-2179-467b-bae9-c47493607d7e",
   "metadata": {},
   "outputs": [
    {
     "ename": "NameError",
     "evalue": "name 'n' is not defined",
     "output_type": "error",
     "traceback": [
      "\u001b[1;31m---------------------------------------------------------------------------\u001b[0m",
      "\u001b[1;31mNameError\u001b[0m                                 Traceback (most recent call last)",
      "Cell \u001b[1;32mIn[25], line 1\u001b[0m\n\u001b[1;32m----> 1\u001b[0m n\u001b[38;5;241m.\u001b[39mvalues\n",
      "\u001b[1;31mNameError\u001b[0m: name 'n' is not defined"
     ]
    }
   ],
   "source": [
    "n.values"
   ]
  },
  {
   "cell_type": "markdown",
   "id": "23b61256-c596-4eb5-bc47-761f1d197974",
   "metadata": {},
   "source": [
    "# Series using read CSV"
   ]
  },
  {
   "cell_type": "code",
   "execution_count": 26,
   "id": "9b3ca00c-ea53-4a44-8b80-3507c0ce49e1",
   "metadata": {},
   "outputs": [
    {
     "data": {
      "text/plain": [
       "pandas.core.frame.DataFrame"
      ]
     },
     "execution_count": 26,
     "metadata": {},
     "output_type": "execute_result"
    }
   ],
   "source": [
    "# one column data set\n",
    "type(pd.read_csv(\"C:\\\\Users\\\\DELL\\\\Desktop\\\\pythonn\\\\campus x\\\\session-datasets-20240731T033422Z-001\\\\datasets-session-16\\\\subs.csv\"))"
   ]
  },
  {
   "cell_type": "code",
   "execution_count": 27,
   "id": "e2ed0825-e423-4d2b-8a68-35703fc8f64e",
   "metadata": {},
   "outputs": [
    {
     "data": {
      "text/html": [
       "<div>\n",
       "<style scoped>\n",
       "    .dataframe tbody tr th:only-of-type {\n",
       "        vertical-align: middle;\n",
       "    }\n",
       "\n",
       "    .dataframe tbody tr th {\n",
       "        vertical-align: top;\n",
       "    }\n",
       "\n",
       "    .dataframe thead th {\n",
       "        text-align: right;\n",
       "    }\n",
       "</style>\n",
       "<table border=\"1\" class=\"dataframe\">\n",
       "  <thead>\n",
       "    <tr style=\"text-align: right;\">\n",
       "      <th></th>\n",
       "      <th>Subscribers gained</th>\n",
       "    </tr>\n",
       "  </thead>\n",
       "  <tbody>\n",
       "    <tr>\n",
       "      <th>0</th>\n",
       "      <td>48</td>\n",
       "    </tr>\n",
       "    <tr>\n",
       "      <th>1</th>\n",
       "      <td>57</td>\n",
       "    </tr>\n",
       "    <tr>\n",
       "      <th>2</th>\n",
       "      <td>40</td>\n",
       "    </tr>\n",
       "    <tr>\n",
       "      <th>3</th>\n",
       "      <td>43</td>\n",
       "    </tr>\n",
       "    <tr>\n",
       "      <th>4</th>\n",
       "      <td>44</td>\n",
       "    </tr>\n",
       "    <tr>\n",
       "      <th>...</th>\n",
       "      <td>...</td>\n",
       "    </tr>\n",
       "    <tr>\n",
       "      <th>360</th>\n",
       "      <td>231</td>\n",
       "    </tr>\n",
       "    <tr>\n",
       "      <th>361</th>\n",
       "      <td>226</td>\n",
       "    </tr>\n",
       "    <tr>\n",
       "      <th>362</th>\n",
       "      <td>155</td>\n",
       "    </tr>\n",
       "    <tr>\n",
       "      <th>363</th>\n",
       "      <td>144</td>\n",
       "    </tr>\n",
       "    <tr>\n",
       "      <th>364</th>\n",
       "      <td>172</td>\n",
       "    </tr>\n",
       "  </tbody>\n",
       "</table>\n",
       "<p>365 rows × 1 columns</p>\n",
       "</div>"
      ],
      "text/plain": [
       "     Subscribers gained\n",
       "0                    48\n",
       "1                    57\n",
       "2                    40\n",
       "3                    43\n",
       "4                    44\n",
       "..                  ...\n",
       "360                 231\n",
       "361                 226\n",
       "362                 155\n",
       "363                 144\n",
       "364                 172\n",
       "\n",
       "[365 rows x 1 columns]"
      ]
     },
     "execution_count": 27,
     "metadata": {},
     "output_type": "execute_result"
    }
   ],
   "source": [
    "# import file from the folder or location in to working file\n",
    "pd.read_csv(\"C:\\\\Users\\\\DELL\\\\Desktop\\\\pythonn\\\\campus x\\\\session-datasets-20240731T033422Z-001\\\\datasets-session-16\\\\subs.csv\")\n"
   ]
  },
  {
   "cell_type": "markdown",
   "id": "3aac55a0-5a98-4d98-b57d-9594f8ab9a92",
   "metadata": {},
   "source": [
    "># convert dataframe to series\n",
    "> use squeeze = True at the end to convert you dataframe data into Series"
   ]
  },
  {
   "cell_type": "code",
   "execution_count": 28,
   "id": "516db90f-9614-4281-a094-1697d46b5e78",
   "metadata": {},
   "outputs": [],
   "source": [
    "df = pd.read_csv(\"C:\\\\Users\\\\DELL\\\\Desktop\\\\pythonn\\\\campus x\\\\session-datasets-20240731T033422Z-001\\\\datasets-session-16\\\\subs.csv\")\n",
    "vk=pd.read_csv(\"C:\\\\Users\\\\DELL\\\\Desktop\\\\pythonn\\\\campus x\\\\session-datasets-20240731T033422Z-001\\\\datasets-session-16\\\\kohli_ipl.csv\")"
   ]
  },
  {
   "cell_type": "code",
   "execution_count": 29,
   "id": "622a6744-7ae3-43a2-a606-2e0d6bb50ea7",
   "metadata": {},
   "outputs": [
    {
     "name": "stdout",
     "output_type": "stream",
     "text": [
      "0       48\n",
      "1       57\n",
      "2       40\n",
      "3       43\n",
      "4       44\n",
      "      ... \n",
      "360    231\n",
      "361    226\n",
      "362    155\n",
      "363    144\n",
      "364    172\n",
      "Name: Subscribers gained, Length: 365, dtype: int64\n",
      "<class 'pandas.core.series.Series'>\n"
     ]
    }
   ],
   "source": [
    "subs = df.squeeze()\n",
    "print(subs)\n",
    "print(type(subs))"
   ]
  },
  {
   "cell_type": "code",
   "execution_count": 30,
   "id": "da3c1760-ff2c-4070-8e2f-df4328f2387f",
   "metadata": {},
   "outputs": [
    {
     "data": {
      "text/html": [
       "<div>\n",
       "<style scoped>\n",
       "    .dataframe tbody tr th:only-of-type {\n",
       "        vertical-align: middle;\n",
       "    }\n",
       "\n",
       "    .dataframe tbody tr th {\n",
       "        vertical-align: top;\n",
       "    }\n",
       "\n",
       "    .dataframe thead th {\n",
       "        text-align: right;\n",
       "    }\n",
       "</style>\n",
       "<table border=\"1\" class=\"dataframe\">\n",
       "  <thead>\n",
       "    <tr style=\"text-align: right;\">\n",
       "      <th></th>\n",
       "      <th>runs</th>\n",
       "    </tr>\n",
       "    <tr>\n",
       "      <th>match_no</th>\n",
       "      <th></th>\n",
       "    </tr>\n",
       "  </thead>\n",
       "  <tbody>\n",
       "    <tr>\n",
       "      <th>1</th>\n",
       "      <td>1</td>\n",
       "    </tr>\n",
       "    <tr>\n",
       "      <th>2</th>\n",
       "      <td>23</td>\n",
       "    </tr>\n",
       "    <tr>\n",
       "      <th>3</th>\n",
       "      <td>13</td>\n",
       "    </tr>\n",
       "    <tr>\n",
       "      <th>4</th>\n",
       "      <td>12</td>\n",
       "    </tr>\n",
       "    <tr>\n",
       "      <th>5</th>\n",
       "      <td>1</td>\n",
       "    </tr>\n",
       "    <tr>\n",
       "      <th>...</th>\n",
       "      <td>...</td>\n",
       "    </tr>\n",
       "    <tr>\n",
       "      <th>211</th>\n",
       "      <td>0</td>\n",
       "    </tr>\n",
       "    <tr>\n",
       "      <th>212</th>\n",
       "      <td>20</td>\n",
       "    </tr>\n",
       "    <tr>\n",
       "      <th>213</th>\n",
       "      <td>73</td>\n",
       "    </tr>\n",
       "    <tr>\n",
       "      <th>214</th>\n",
       "      <td>25</td>\n",
       "    </tr>\n",
       "    <tr>\n",
       "      <th>215</th>\n",
       "      <td>7</td>\n",
       "    </tr>\n",
       "  </tbody>\n",
       "</table>\n",
       "<p>215 rows × 1 columns</p>\n",
       "</div>"
      ],
      "text/plain": [
       "          runs\n",
       "match_no      \n",
       "1            1\n",
       "2           23\n",
       "3           13\n",
       "4           12\n",
       "5            1\n",
       "...        ...\n",
       "211          0\n",
       "212         20\n",
       "213         73\n",
       "214         25\n",
       "215          7\n",
       "\n",
       "[215 rows x 1 columns]"
      ]
     },
     "metadata": {},
     "output_type": "display_data"
    },
    {
     "name": "stdout",
     "output_type": "stream",
     "text": [
      "<class 'pandas.core.frame.DataFrame'>\n"
     ]
    }
   ],
   "source": [
    "# with two columns\n",
    "vkipl=pd.read_csv(\"C:\\\\Users\\\\DELL\\\\Desktop\\\\pythonn\\\\campus x\\\\session-datasets-20240731T033422Z-001\\\\datasets-session-16\\\\kohli_ipl.csv\",index_col=\"match_no\")\n",
    "display(vkipl)\n",
    "print(type(vkipl))"
   ]
  },
  {
   "cell_type": "code",
   "execution_count": 31,
   "id": "6c59a087-6cc0-4359-af53-975488122d4e",
   "metadata": {},
   "outputs": [
    {
     "name": "stdout",
     "output_type": "stream",
     "text": [
      "match_no\n",
      "1       1\n",
      "2      23\n",
      "3      13\n",
      "4      12\n",
      "5       1\n",
      "       ..\n",
      "211     0\n",
      "212    20\n",
      "213    73\n",
      "214    25\n",
      "215     7\n",
      "Name: runs, Length: 215, dtype: int64\n"
     ]
    },
    {
     "data": {
      "text/plain": [
       "pandas.core.series.Series"
      ]
     },
     "execution_count": 31,
     "metadata": {},
     "output_type": "execute_result"
    }
   ],
   "source": [
    "vk=vkipl.squeeze()\n",
    "print(vk)\n",
    "type(vk)"
   ]
  },
  {
   "cell_type": "code",
   "execution_count": 32,
   "id": "eaf1b48d-c49b-4578-b330-faa486662b38",
   "metadata": {},
   "outputs": [
    {
     "data": {
      "text/html": [
       "<div>\n",
       "<style scoped>\n",
       "    .dataframe tbody tr th:only-of-type {\n",
       "        vertical-align: middle;\n",
       "    }\n",
       "\n",
       "    .dataframe tbody tr th {\n",
       "        vertical-align: top;\n",
       "    }\n",
       "\n",
       "    .dataframe thead th {\n",
       "        text-align: right;\n",
       "    }\n",
       "</style>\n",
       "<table border=\"1\" class=\"dataframe\">\n",
       "  <thead>\n",
       "    <tr style=\"text-align: right;\">\n",
       "      <th></th>\n",
       "      <th>lead</th>\n",
       "    </tr>\n",
       "    <tr>\n",
       "      <th>movie</th>\n",
       "      <th></th>\n",
       "    </tr>\n",
       "  </thead>\n",
       "  <tbody>\n",
       "    <tr>\n",
       "      <th>Uri: The Surgical Strike</th>\n",
       "      <td>Vicky Kaushal</td>\n",
       "    </tr>\n",
       "    <tr>\n",
       "      <th>Battalion 609</th>\n",
       "      <td>Vicky Ahuja</td>\n",
       "    </tr>\n",
       "    <tr>\n",
       "      <th>The Accidental Prime Minister (film)</th>\n",
       "      <td>Anupam Kher</td>\n",
       "    </tr>\n",
       "    <tr>\n",
       "      <th>Why Cheat India</th>\n",
       "      <td>Emraan Hashmi</td>\n",
       "    </tr>\n",
       "    <tr>\n",
       "      <th>Evening Shadows</th>\n",
       "      <td>Mona Ambegaonkar</td>\n",
       "    </tr>\n",
       "    <tr>\n",
       "      <th>...</th>\n",
       "      <td>...</td>\n",
       "    </tr>\n",
       "    <tr>\n",
       "      <th>Hum Tumhare Hain Sanam</th>\n",
       "      <td>Shah Rukh Khan</td>\n",
       "    </tr>\n",
       "    <tr>\n",
       "      <th>Aankhen (2002 film)</th>\n",
       "      <td>Amitabh Bachchan</td>\n",
       "    </tr>\n",
       "    <tr>\n",
       "      <th>Saathiya (film)</th>\n",
       "      <td>Vivek Oberoi</td>\n",
       "    </tr>\n",
       "    <tr>\n",
       "      <th>Company (film)</th>\n",
       "      <td>Ajay Devgn</td>\n",
       "    </tr>\n",
       "    <tr>\n",
       "      <th>Awara Paagal Deewana</th>\n",
       "      <td>Akshay Kumar</td>\n",
       "    </tr>\n",
       "  </tbody>\n",
       "</table>\n",
       "<p>1500 rows × 1 columns</p>\n",
       "</div>"
      ],
      "text/plain": [
       "                                                  lead\n",
       "movie                                                 \n",
       "Uri: The Surgical Strike                 Vicky Kaushal\n",
       "Battalion 609                              Vicky Ahuja\n",
       "The Accidental Prime Minister (film)       Anupam Kher\n",
       "Why Cheat India                          Emraan Hashmi\n",
       "Evening Shadows                       Mona Ambegaonkar\n",
       "...                                                ...\n",
       "Hum Tumhare Hain Sanam                  Shah Rukh Khan\n",
       "Aankhen (2002 film)                   Amitabh Bachchan\n",
       "Saathiya (film)                           Vivek Oberoi\n",
       "Company (film)                              Ajay Devgn\n",
       "Awara Paagal Deewana                      Akshay Kumar\n",
       "\n",
       "[1500 rows x 1 columns]"
      ]
     },
     "metadata": {},
     "output_type": "display_data"
    },
    {
     "name": "stdout",
     "output_type": "stream",
     "text": [
      "<class 'pandas.core.frame.DataFrame'>\n"
     ]
    }
   ],
   "source": [
    "# with three columns\n",
    "boll=pd.read_csv(\"C:\\\\Users\\\\DELL\\\\Desktop\\\\pythonn\\\\campus x\\\\session-datasets-20240731T033422Z-001\\\\datasets-session-16\\\\bollywood.csv\",index_col=\"movie\")\n",
    "display(boll)\n",
    "print(type(boll))"
   ]
  },
  {
   "cell_type": "code",
   "execution_count": 33,
   "id": "dce3da86-e117-4240-bee4-771fe91f3518",
   "metadata": {},
   "outputs": [
    {
     "name": "stdout",
     "output_type": "stream",
     "text": [
      "movie\n",
      "Uri: The Surgical Strike                   Vicky Kaushal\n",
      "Battalion 609                                Vicky Ahuja\n",
      "The Accidental Prime Minister (film)         Anupam Kher\n",
      "Why Cheat India                            Emraan Hashmi\n",
      "Evening Shadows                         Mona Ambegaonkar\n",
      "                                              ...       \n",
      "Hum Tumhare Hain Sanam                    Shah Rukh Khan\n",
      "Aankhen (2002 film)                     Amitabh Bachchan\n",
      "Saathiya (film)                             Vivek Oberoi\n",
      "Company (film)                                Ajay Devgn\n",
      "Awara Paagal Deewana                        Akshay Kumar\n",
      "Name: lead, Length: 1500, dtype: object\n"
     ]
    },
    {
     "data": {
      "text/plain": [
       "pandas.core.series.Series"
      ]
     },
     "execution_count": 33,
     "metadata": {},
     "output_type": "execute_result"
    }
   ],
   "source": [
    "bolly=boll.squeeze()\n",
    "print(bolly)\n",
    "type(bolly)"
   ]
  },
  {
   "cell_type": "markdown",
   "id": "fb209d3d-122a-471d-b596-392c27d3b2c5",
   "metadata": {},
   "source": [
    "# Series methods"
   ]
  },
  {
   "cell_type": "markdown",
   "id": "86e5bee6-52ef-42cc-9308-1db21eeeab54",
   "metadata": {},
   "source": [
    "# head  - used to preview & show the data\n",
    ">by default it show 5 rows data."
   ]
  },
  {
   "cell_type": "code",
   "execution_count": 34,
   "id": "778a8cfd-6f0b-4907-8ead-7318cd5753c9",
   "metadata": {},
   "outputs": [
    {
     "data": {
      "text/plain": [
       "0    48\n",
       "1    57\n",
       "2    40\n",
       "3    43\n",
       "4    44\n",
       "Name: Subscribers gained, dtype: int64"
      ]
     },
     "execution_count": 34,
     "metadata": {},
     "output_type": "execute_result"
    }
   ],
   "source": [
    "subs.head()"
   ]
  },
  {
   "cell_type": "code",
   "execution_count": 35,
   "id": "ef85fdbe-4882-42e4-957f-7f4f8995917c",
   "metadata": {},
   "outputs": [
    {
     "data": {
      "text/plain": [
       "match_no\n",
       "1      1\n",
       "2     23\n",
       "3     13\n",
       "4     12\n",
       "5      1\n",
       "6      9\n",
       "7     34\n",
       "8      0\n",
       "9     21\n",
       "10     3\n",
       "11    10\n",
       "12    38\n",
       "13     3\n",
       "14    11\n",
       "15    50\n",
       "16     2\n",
       "17    22\n",
       "18    19\n",
       "19    16\n",
       "20    15\n",
       "21    20\n",
       "22    38\n",
       "23    19\n",
       "24    24\n",
       "25     7\n",
       "26     2\n",
       "27    16\n",
       "28    17\n",
       "29    24\n",
       "30    38\n",
       "31    34\n",
       "32    42\n",
       "33    13\n",
       "34    58\n",
       "35     3\n",
       "36    14\n",
       "37    37\n",
       "38     9\n",
       "39    23\n",
       "40    12\n",
       "41    71\n",
       "42    35\n",
       "43    30\n",
       "44    56\n",
       "45    67\n",
       "46    27\n",
       "47    27\n",
       "48    39\n",
       "49    15\n",
       "50    11\n",
       "51    31\n",
       "52    70\n",
       "53     8\n",
       "54    35\n",
       "55     8\n",
       "56     6\n",
       "57    57\n",
       "58    22\n",
       "59    16\n",
       "60     4\n",
       "Name: runs, dtype: int64"
      ]
     },
     "execution_count": 35,
     "metadata": {},
     "output_type": "execute_result"
    }
   ],
   "source": [
    "vk.head(60)"
   ]
  },
  {
   "cell_type": "markdown",
   "id": "7f59531c-7e1a-4d73-83c7-b4a682b5e299",
   "metadata": {},
   "source": [
    "# tail - will preview & show data from the bottom of the data\n",
    ">by default it show bottom 5 rows from the data"
   ]
  },
  {
   "cell_type": "code",
   "execution_count": 36,
   "id": "08648544-efdc-482d-921c-13c37b5960ac",
   "metadata": {},
   "outputs": [
    {
     "data": {
      "text/plain": [
       "match_no\n",
       "211     0\n",
       "212    20\n",
       "213    73\n",
       "214    25\n",
       "215     7\n",
       "Name: runs, dtype: int64"
      ]
     },
     "execution_count": 36,
     "metadata": {},
     "output_type": "execute_result"
    }
   ],
   "source": [
    "vk.tail()"
   ]
  },
  {
   "cell_type": "code",
   "execution_count": 37,
   "id": "f1c3ece3-5a49-4dc7-acf1-b957e768306e",
   "metadata": {},
   "outputs": [
    {
     "data": {
      "text/plain": [
       "match_no\n",
       "206     0\n",
       "207     0\n",
       "208     9\n",
       "209    58\n",
       "210    30\n",
       "211     0\n",
       "212    20\n",
       "213    73\n",
       "214    25\n",
       "215     7\n",
       "Name: runs, dtype: int64"
      ]
     },
     "execution_count": 37,
     "metadata": {},
     "output_type": "execute_result"
    }
   ],
   "source": [
    "vk.tail(10)"
   ]
  },
  {
   "cell_type": "markdown",
   "id": "1558d73d-f6d8-4dcd-b41a-93fb0f5c6173",
   "metadata": {},
   "source": [
    "# sample -\n",
    ">will show 1 rows randomly (by default 1 row and you can view many numbers of data )"
   ]
  },
  {
   "cell_type": "code",
   "execution_count": 38,
   "id": "7ea0f43d-825b-4ca5-b324-3ac9a9d46b47",
   "metadata": {},
   "outputs": [
    {
     "data": {
      "text/plain": [
       "movie\n",
       "Prince (2010 film)    Vivek Oberoi\n",
       "Name: lead, dtype: object"
      ]
     },
     "execution_count": 38,
     "metadata": {},
     "output_type": "execute_result"
    }
   ],
   "source": [
    "bolly.sample()"
   ]
  },
  {
   "cell_type": "code",
   "execution_count": 39,
   "id": "40dc7ebb-541b-4555-bb3a-854a7d1a9df9",
   "metadata": {},
   "outputs": [
    {
     "data": {
      "text/plain": [
       "movie\n",
       "1920: The Evil Returns        Vicky Ahuja\n",
       "Dehraadun Diary            Adhyayan Suman\n",
       "Vaada Raha                     Bobby Deol\n",
       "Paisa Vasool              Manisha Koirala\n",
       "Chaar Din Ki Chandni       Tusshar Kapoor\n",
       "Name: lead, dtype: object"
      ]
     },
     "execution_count": 39,
     "metadata": {},
     "output_type": "execute_result"
    }
   ],
   "source": [
    "bolly.sample(5)"
   ]
  },
  {
   "cell_type": "markdown",
   "id": "29f03d30-6c4a-4236-9a61-fb1597a5c12a",
   "metadata": {},
   "source": [
    "# value counts. \n",
    "will give number of counts of each characters in the dataset (if found dulicate values)\n",
    ">name of column.value_counts()"
   ]
  },
  {
   "cell_type": "code",
   "execution_count": 40,
   "id": "ca9b98fe-aeaf-470d-a6d7-27e9ee85ad6d",
   "metadata": {},
   "outputs": [
    {
     "data": {
      "text/plain": [
       "lead\n",
       "Akshay Kumar        48\n",
       "Amitabh Bachchan    45\n",
       "Ajay Devgn          38\n",
       "Salman Khan         31\n",
       "Sanjay Dutt         26\n",
       "                    ..\n",
       "Diganth              1\n",
       "Parveen Kaur         1\n",
       "Seema Azmi           1\n",
       "Akanksha Puri        1\n",
       "Edwin Fernandes      1\n",
       "Name: count, Length: 566, dtype: int64"
      ]
     },
     "execution_count": 40,
     "metadata": {},
     "output_type": "execute_result"
    }
   ],
   "source": [
    "bolly.value_counts()"
   ]
  },
  {
   "cell_type": "markdown",
   "id": "2098b059-2b40-4e58-acf3-5bc0a4bf9995",
   "metadata": {},
   "source": [
    "# sort_values -> inplace =True\n",
    ">.sort_values(inplace=True) (inplace=True are used to make permanet changes in the orignal values)"
   ]
  },
  {
   "cell_type": "code",
   "execution_count": 41,
   "id": "a3daf080-b2c1-4b18-bb4b-c94fca8d469b",
   "metadata": {},
   "outputs": [
    {
     "data": {
      "text/plain": [
       "match_no\n",
       "87       0\n",
       "211      0\n",
       "207      0\n",
       "206      0\n",
       "91       0\n",
       "      ... \n",
       "164    100\n",
       "120    100\n",
       "123    108\n",
       "126    109\n",
       "128    113\n",
       "Name: runs, Length: 215, dtype: int64"
      ]
     },
     "execution_count": 41,
     "metadata": {},
     "output_type": "execute_result"
    }
   ],
   "source": [
    "# sort in ascending orders \n",
    "vk.sort_values()"
   ]
  },
  {
   "cell_type": "code",
   "execution_count": null,
   "id": "7023f9fa-ae9c-4b0e-b49d-406453b38776",
   "metadata": {},
   "outputs": [],
   "source": [
    "# sort in descending orders\n",
    "vk.sort_values(ascending=False)"
   ]
  },
  {
   "cell_type": "code",
   "execution_count": null,
   "id": "0c135ef2-fe6f-4ecb-974c-0b4202bac481",
   "metadata": {},
   "outputs": [],
   "source": [
    "# give only highest score and match number\n",
    "vk.sort_values(ascending=False).head()"
   ]
  },
  {
   "cell_type": "code",
   "execution_count": null,
   "id": "aca6f8d4-316d-4be1-9516-11bc3b95dce6",
   "metadata": {},
   "outputs": [],
   "source": [
    "# give only highest score and match number\n",
    "vk.sort_values(ascending=False).head(1)"
   ]
  },
  {
   "cell_type": "code",
   "execution_count": null,
   "id": "bed29c7b-093b-49d6-a78e-b93da38e247e",
   "metadata": {},
   "outputs": [],
   "source": [
    "# give only match score. the sequence is used in the function to find the highest score is called chain method.\n",
    "vk.sort_values(ascending=False).head(1).values[0]"
   ]
  },
  {
   "cell_type": "markdown",
   "id": "183f1c9c-98b5-428e-bd91-f1dd305ef340",
   "metadata": {},
   "source": [
    "# sort_index - inplace -> movies\n",
    "will sort the data set in alphabetic orders    \n",
    "(inplace=True are used to make permanet changes in the orignal values)"
   ]
  },
  {
   "cell_type": "code",
   "execution_count": null,
   "id": "bc1282be-e9d9-463b-be0e-504751dcee82",
   "metadata": {},
   "outputs": [],
   "source": [
    "bolly.sort_index()"
   ]
  },
  {
   "cell_type": "markdown",
   "id": "3f02d94b-8ee9-4c94-9c54-a91cb6cf8b38",
   "metadata": {},
   "source": [
    "# Series Maths Methods"
   ]
  },
  {
   "cell_type": "code",
   "execution_count": null,
   "id": "a660b067-0bc4-4e16-82e8-41f368e17b02",
   "metadata": {},
   "outputs": [],
   "source": [
    "# count\n",
    "vk.count()"
   ]
  },
  {
   "cell_type": "code",
   "execution_count": null,
   "id": "72e075a2-df56-4a25-a8e1-1e13d1428e6f",
   "metadata": {},
   "outputs": [],
   "source": [
    "# sum - product\n",
    "subs.sum()"
   ]
  },
  {
   "cell_type": "code",
   "execution_count": null,
   "id": "83400a81-bfbb-4597-a279-ad8cc27f4b23",
   "metadata": {},
   "outputs": [],
   "source": [
    "# product\n",
    "subs.product()"
   ]
  },
  {
   "cell_type": "code",
   "execution_count": null,
   "id": "009b1b8e-8861-46d6-ad05-c1523180e2de",
   "metadata": {},
   "outputs": [],
   "source": [
    "#mean\n",
    "subs.mean()"
   ]
  },
  {
   "cell_type": "code",
   "execution_count": null,
   "id": "062df895-7b3a-4d97-95b0-b0e818c9e2a2",
   "metadata": {},
   "outputs": [],
   "source": [
    "# median\n",
    "print(subs.median())\n",
    "vk.median()"
   ]
  },
  {
   "cell_type": "code",
   "execution_count": null,
   "id": "e5a8078b-e9fc-49bc-b1ff-a4519f7e89a8",
   "metadata": {},
   "outputs": [],
   "source": [
    "# mode - give highest value in the dataset\n",
    "# 0 is index number\n",
    "bolly.mode()"
   ]
  },
  {
   "cell_type": "code",
   "execution_count": null,
   "id": "d841031c-5076-40c3-85bd-33cb7fe0d521",
   "metadata": {},
   "outputs": [],
   "source": [
    "# standard deviation\n",
    "vk.std()"
   ]
  },
  {
   "cell_type": "code",
   "execution_count": null,
   "id": "9c05fb37-9f02-45fb-a322-87df4f83d69c",
   "metadata": {},
   "outputs": [],
   "source": [
    "# variance\n",
    "vk.var()"
   ]
  },
  {
   "cell_type": "code",
   "execution_count": null,
   "id": "b556ef4f-549b-457d-9f9e-73247babdeb3",
   "metadata": {},
   "outputs": [],
   "source": [
    "# min\n",
    "subs.min()"
   ]
  },
  {
   "cell_type": "code",
   "execution_count": null,
   "id": "052c9ae9-0d97-4534-878a-cbddff29dcf2",
   "metadata": {},
   "outputs": [],
   "source": [
    "#max\n",
    "subs.max()"
   ]
  },
  {
   "cell_type": "code",
   "execution_count": null,
   "id": "ff7ff2fe-94a2-4b5f-a774-d2e64cee4e29",
   "metadata": {},
   "outputs": [],
   "source": [
    "# describe - will give you the summary.\n",
    "print(vk.describe())\n",
    "print()\n",
    "print(subs.describe())"
   ]
  },
  {
   "cell_type": "markdown",
   "id": "073d496a-eb7c-4966-96b5-1710252045ef",
   "metadata": {},
   "source": [
    "# series indexing"
   ]
  },
  {
   "cell_type": "code",
   "execution_count": null,
   "id": "84ba1eaf-80ab-4966-bee9-b7f1f193133e",
   "metadata": {},
   "outputs": [],
   "source": [
    "# integer indexing\n",
    "x=pd.Series([12,22,32,74,45,62,17,48,90])\n",
    "print(x[0])\n",
    "print(x[1])\n",
    "print(x[5])\n"
   ]
  },
  {
   "cell_type": "code",
   "execution_count": null,
   "id": "d6d330a9-a715-4bc6-8638-c08bf0f06feb",
   "metadata": {},
   "outputs": [],
   "source": [
    "# negative indexing not allowed in the pandas series only allowed when index is string value\n",
    "y=pd.Series([12,22,32,74,45,62,17,48,90])\n",
    "print(y[-1])"
   ]
  },
  {
   "cell_type": "code",
   "execution_count": null,
   "id": "bb37f7e1-12cd-42dd-81b0-585b5cb98fcc",
   "metadata": {},
   "outputs": [],
   "source": [
    "# negative indexing allowed when index is string value.\n",
    "print(bolly[0])\n",
    "print(bolly[-1])"
   ]
  },
  {
   "cell_type": "markdown",
   "id": "38174808-5141-40aa-b367-068e322067c8",
   "metadata": {},
   "source": [
    "# slicing"
   ]
  },
  {
   "cell_type": "code",
   "execution_count": null,
   "id": "a7a77da0-b73b-4df5-aadc-8c7134dd5918",
   "metadata": {},
   "outputs": [],
   "source": [
    "vk[5:16]"
   ]
  },
  {
   "cell_type": "code",
   "execution_count": null,
   "id": "04b844ae-0c2e-42ee-b1b6-16f0ee70b88a",
   "metadata": {},
   "outputs": [],
   "source": [
    "vk[-5:-1]"
   ]
  },
  {
   "cell_type": "code",
   "execution_count": null,
   "id": "5e65493b-4764-43df-9c67-793de3147a34",
   "metadata": {},
   "outputs": [],
   "source": [
    "bolly[-5:]"
   ]
  },
  {
   "cell_type": "code",
   "execution_count": null,
   "id": "add12ac7-a3ea-4b75-b174-d767aba4d884",
   "metadata": {},
   "outputs": [],
   "source": [
    "bolly[::2]"
   ]
  },
  {
   "cell_type": "code",
   "execution_count": null,
   "id": "f33c4c02-5fd8-4f17-b1dc-635864da2a7f",
   "metadata": {},
   "outputs": [],
   "source": [
    "# fancy indexing\n",
    "vk[[1,3,4,5]]"
   ]
  },
  {
   "cell_type": "code",
   "execution_count": null,
   "id": "8e0e3dbf-fed6-447e-bced-06e93d975374",
   "metadata": {},
   "outputs": [],
   "source": [
    "# indexing with label -> fancy indexing\n",
    "bolly['Aankhen (2002 film)']"
   ]
  },
  {
   "cell_type": "code",
   "execution_count": null,
   "id": "a0acad23-dda9-4a5f-a93b-3408afa75841",
   "metadata": {},
   "outputs": [],
   "source": [
    "bolly"
   ]
  },
  {
   "cell_type": "code",
   "execution_count": null,
   "id": "e519651f-8b6a-413b-8d38-43984f4b9541",
   "metadata": {},
   "outputs": [],
   "source": [
    "bolly['Saathiya (film)']"
   ]
  },
  {
   "cell_type": "markdown",
   "id": "fb27de44-26b6-4697-b363-129620824f0e",
   "metadata": {},
   "source": [
    "# editing series"
   ]
  },
  {
   "cell_type": "code",
   "execution_count": null,
   "id": "7a04534c-12d6-4921-b20b-0d0f8072b548",
   "metadata": {},
   "outputs": [],
   "source": [
    "# using indexing\n",
    "print(\"befor editing\",marks_series)\n",
    "marks_series[1]=95\n",
    "print(\"After editing\",marks_series)"
   ]
  },
  {
   "cell_type": "code",
   "execution_count": null,
   "id": "dd1e04df-1909-48b3-996e-50c2ae266c08",
   "metadata": {},
   "outputs": [],
   "source": [
    "# what if an index , does not exist. it will add the value into dataset\n",
    "\n",
    "marks_series[\"SST\"]=90\n",
    "print(marks_series)"
   ]
  },
  {
   "cell_type": "code",
   "execution_count": null,
   "id": "1b6c2474-2ffa-418d-8011-a4ac479fba68",
   "metadata": {},
   "outputs": [],
   "source": [
    "# slicing\n",
    "runs_ser[2:4]=[90,80]\n",
    "runs_ser"
   ]
  },
  {
   "cell_type": "code",
   "execution_count": null,
   "id": "1ab6e95b-81f0-4456-a4aa-af9ba499bb91",
   "metadata": {},
   "outputs": [],
   "source": [
    "# using fancy indexing\n",
    "runs_ser[[0,3,4]]=[0,0,0]\n",
    "runs_ser"
   ]
  },
  {
   "cell_type": "code",
   "execution_count": null,
   "id": "28806b04-8162-4a80-aa26-b9e39e3a4466",
   "metadata": {},
   "outputs": [],
   "source": [
    "# using index label\n",
    "bolly['Awara Paagal Deewana']=\"sunil shetty\"\n",
    "bolly"
   ]
  },
  {
   "cell_type": "code",
   "execution_count": null,
   "id": "ed922e02-d32c-41b1-955c-6308854356c0",
   "metadata": {},
   "outputs": [],
   "source": []
  },
  {
   "cell_type": "markdown",
   "id": "cf22a314-3c72-40e1-b9e4-e59d533742de",
   "metadata": {},
   "source": [
    "# series with python functionality"
   ]
  },
  {
   "cell_type": "code",
   "execution_count": null,
   "id": "8109a60d-d354-4b66-97d2-85e224c0d02f",
   "metadata": {},
   "outputs": [],
   "source": [
    "# len/type/dir/sorted/max/min\n",
    "\n",
    "print(len(subs))\n",
    "print(type(subs))\n",
    "print(sorted(subs))\n",
    "print(min(subs))\n",
    "print(max(subs))\n",
    "\n",
    "print()\n",
    "print(dir(subs))"
   ]
  },
  {
   "cell_type": "code",
   "execution_count": null,
   "id": "6cb57429-b828-4021-ae96-6b25c985c993",
   "metadata": {},
   "outputs": [],
   "source": [
    "# type conversion\n",
    "marks_series\n",
    "list(marks_series)\n",
    "dict(marks_series)"
   ]
  },
  {
   "cell_type": "code",
   "execution_count": null,
   "id": "587e572c-8fb7-4e4d-8e72-494c164fc588",
   "metadata": {},
   "outputs": [],
   "source": [
    "# membership operator\n",
    "bolly"
   ]
  },
  {
   "cell_type": "code",
   "execution_count": null,
   "id": "57caebb1-deee-4292-a046-231b05182de5",
   "metadata": {},
   "outputs": [],
   "source": [
    "'2 States (2014 film)' in bolly"
   ]
  },
  {
   "cell_type": "code",
   "execution_count": null,
   "id": "1bd9144b-9c1c-43ab-b432-7dda286c213b",
   "metadata": {},
   "outputs": [],
   "source": [
    "# looping\n",
    "for i in bolly.index:\n",
    "    print(i)"
   ]
  },
  {
   "cell_type": "code",
   "execution_count": null,
   "id": "9dde0a46-6f6b-42da-a011-d5f18727494d",
   "metadata": {},
   "outputs": [],
   "source": [
    "# looping\n",
    "for i in bolly:\n",
    "    print(i)"
   ]
  },
  {
   "cell_type": "code",
   "execution_count": null,
   "id": "44cb358e-11b5-4e0e-acba-0a118b90205c",
   "metadata": {},
   "outputs": [],
   "source": [
    "# arithmatic operators\n",
    "print(100-marks_series)\n",
    "print(100+marks_series)\n",
    "print(100*marks_series)"
   ]
  },
  {
   "cell_type": "code",
   "execution_count": null,
   "id": "d2f55fb7-62ba-462f-9324-2481a9d544fe",
   "metadata": {},
   "outputs": [],
   "source": [
    "# relation operator\n",
    "vk>=50"
   ]
  },
  {
   "cell_type": "markdown",
   "id": "cf4ea4aa-3d98-4509-befc-72333848f27d",
   "metadata": {},
   "source": [
    "# Boolean indexing on series"
   ]
  },
  {
   "cell_type": "code",
   "execution_count": null,
   "id": "34477830-8c53-4c72-8ed7-2544dc7380d2",
   "metadata": {},
   "outputs": [],
   "source": [
    "# find the no of 50s and 100s scored  by kohli\n",
    "print(vk[vk>=50])\n",
    "print(\"total no matches above 50s:\",vk[vk>=50].size)"
   ]
  },
  {
   "cell_type": "code",
   "execution_count": null,
   "id": "5ff5df14-e5a7-443a-a940-60861d8e797c",
   "metadata": {},
   "outputs": [],
   "source": [
    "# find the number of ducks\n",
    "vk[vk==0].size"
   ]
  },
  {
   "cell_type": "code",
   "execution_count": null,
   "id": "0e76f33a-15da-45c2-a170-8e783e8eb2b2",
   "metadata": {},
   "outputs": [],
   "source": [
    "# count the number of days when i had more than 200 subs a day\n",
    "subs[subs>=200].size"
   ]
  },
  {
   "cell_type": "code",
   "execution_count": 42,
   "id": "ce086040-fcb7-4215-9c76-ddac7e3a1ae6",
   "metadata": {},
   "outputs": [
    {
     "data": {
      "text/plain": [
       "lead\n",
       "Akshay Kumar        48\n",
       "Amitabh Bachchan    45\n",
       "Ajay Devgn          38\n",
       "Salman Khan         31\n",
       "Sanjay Dutt         26\n",
       "Shah Rukh Khan      22\n",
       "Emraan Hashmi       21\n",
       "Name: count, dtype: int64"
      ]
     },
     "execution_count": 42,
     "metadata": {},
     "output_type": "execute_result"
    }
   ],
   "source": [
    "# find the actors who have done more than 20 films\n",
    "num_movies=bolly.value_counts()\n",
    "num_movies[num_movies>20]"
   ]
  },
  {
   "cell_type": "markdown",
   "id": "df00f7b2-0a9c-4d95-b00b-e861e1f6b502",
   "metadata": {},
   "source": [
    "# plotting Graphs on series"
   ]
  },
  {
   "cell_type": "code",
   "execution_count": null,
   "id": "2e67259d-ae0b-4979-8e7d-a3e0955344d1",
   "metadata": {},
   "outputs": [],
   "source": [
    "subs.plot()"
   ]
  },
  {
   "cell_type": "code",
   "execution_count": null,
   "id": "31f88305-2ffc-4622-befd-ba8a5ed940a3",
   "metadata": {},
   "outputs": [],
   "source": [
    "bolly.value_counts().head(20).plot()"
   ]
  },
  {
   "cell_type": "code",
   "execution_count": null,
   "id": "fbb3fb16-c629-4c3d-a79d-4dd2622640f1",
   "metadata": {},
   "outputs": [],
   "source": [
    "bolly.value_counts().head(20).plot(kind=\"bar\")"
   ]
  },
  {
   "cell_type": "code",
   "execution_count": null,
   "id": "a7026d13-9ebd-4a61-9abb-855469b52f8f",
   "metadata": {},
   "outputs": [],
   "source": [
    "bolly.value_counts().head(20).plot(kind=\"pie\")"
   ]
  },
  {
   "cell_type": "markdown",
   "id": "d565b4ac-08da-43f3-9bb7-5104bedef558",
   "metadata": {},
   "source": [
    "# astype \n",
    "reduce size of value and save memory"
   ]
  },
  {
   "cell_type": "code",
   "execution_count": null,
   "id": "9eed3ddb-5442-4199-84a1-e677c4ebc55e",
   "metadata": {},
   "outputs": [],
   "source": [
    "import sys\n",
    "sys.getsizeof(vk)"
   ]
  },
  {
   "cell_type": "code",
   "execution_count": null,
   "id": "45202858-c10d-47b9-85a2-8bff67b9da8e",
   "metadata": {},
   "outputs": [],
   "source": [
    "sys.getsizeof(vk.astype(\"int16\"))"
   ]
  },
  {
   "cell_type": "markdown",
   "id": "3dc523e4-45c4-449e-b5be-9f37d541df3b",
   "metadata": {},
   "source": [
    "# between \n",
    "will help to check whether the thing are exist or not in between given range or data."
   ]
  },
  {
   "cell_type": "code",
   "execution_count": 48,
   "id": "b6bf48b0-c80d-40d3-83a1-19885a0ee528",
   "metadata": {},
   "outputs": [
    {
     "data": {
      "text/plain": [
       "43"
      ]
     },
     "execution_count": 48,
     "metadata": {},
     "output_type": "execute_result"
    }
   ],
   "source": [
    "vk[vk.between(51,99)]\n",
    "vk[vk.between(51,99)].size"
   ]
  },
  {
   "cell_type": "markdown",
   "id": "03fb6ba0-adc7-429b-8e7a-b5ba71e6e5ea",
   "metadata": {},
   "source": [
    "# clip\n",
    "work on the range where betweeen the range value not change but out of the range value become the given value."
   ]
  },
  {
   "cell_type": "code",
   "execution_count": null,
   "id": "8469b24f-7fed-4042-aa82-0636d11fbefb",
   "metadata": {},
   "outputs": [],
   "source": [
    "subs"
   ]
  },
  {
   "cell_type": "code",
   "execution_count": 43,
   "id": "5df5c730-d010-4eec-bf38-b6defcf8cacb",
   "metadata": {},
   "outputs": [
    {
     "data": {
      "text/plain": [
       "0      100\n",
       "1      100\n",
       "2      100\n",
       "3      100\n",
       "4      100\n",
       "      ... \n",
       "360    200\n",
       "361    200\n",
       "362    155\n",
       "363    144\n",
       "364    172\n",
       "Name: Subscribers gained, Length: 365, dtype: int64"
      ]
     },
     "execution_count": 43,
     "metadata": {},
     "output_type": "execute_result"
    }
   ],
   "source": [
    "subs.clip(100,200)"
   ]
  },
  {
   "cell_type": "markdown",
   "id": "2206a0a1-bd59-4605-b5ef-2d96f4261c96",
   "metadata": {},
   "source": [
    "# drop duplicated\n",
    "will removed all dulipcate values and by default it removed last occurance of the value."
   ]
  },
  {
   "cell_type": "code",
   "execution_count": null,
   "id": "bd4e095f-8596-41a5-91be-17c3dd0d2b8f",
   "metadata": {},
   "outputs": [],
   "source": [
    "temp=pd.Series([1,1,2,3,4,5,6,3,6,8,4])\n",
    "temp"
   ]
  },
  {
   "cell_type": "code",
   "execution_count": null,
   "id": "682a4c3d-a296-4cfc-92ce-b245c34f9113",
   "metadata": {},
   "outputs": [],
   "source": [
    "temp.drop_duplicates()"
   ]
  },
  {
   "cell_type": "code",
   "execution_count": null,
   "id": "447701e8-47ec-4762-a8d6-aa684083145c",
   "metadata": {},
   "outputs": [],
   "source": [
    "temp.duplicated().sum()"
   ]
  },
  {
   "cell_type": "code",
   "execution_count": null,
   "id": "b2eea397-8e8a-4409-85e8-c1dcb8bffd4c",
   "metadata": {},
   "outputs": [],
   "source": [
    "vk.duplicated().sum()"
   ]
  },
  {
   "cell_type": "code",
   "execution_count": null,
   "id": "8d8753f3-9cca-452a-98bd-b5a6dbabd368",
   "metadata": {},
   "outputs": [],
   "source": [
    "subs.duplicated().sum()"
   ]
  },
  {
   "cell_type": "markdown",
   "id": "53013d23-5591-4eca-ab4d-42781610351b",
   "metadata": {},
   "source": [
    "# isnull\n"
   ]
  },
  {
   "cell_type": "code",
   "execution_count": 44,
   "id": "7ad0411d-be90-49ce-b659-5d0c98781625",
   "metadata": {},
   "outputs": [
    {
     "data": {
      "text/plain": [
       "0    1.0\n",
       "1    NaN\n",
       "2    3.0\n",
       "3    4.0\n",
       "4    5.0\n",
       "5    NaN\n",
       "6    7.0\n",
       "7    8.0\n",
       "8    NaN\n",
       "9    0.0\n",
       "dtype: float64"
      ]
     },
     "execution_count": 44,
     "metadata": {},
     "output_type": "execute_result"
    }
   ],
   "source": [
    "temp=pd.Series([1,np.nan,3,4,5,np.nan,7,8,np.nan,0])\n",
    "temp"
   ]
  },
  {
   "cell_type": "code",
   "execution_count": 45,
   "id": "abce4ae7-e68d-45c1-b9d0-d801f0da080b",
   "metadata": {},
   "outputs": [
    {
     "data": {
      "text/plain": [
       "3"
      ]
     },
     "execution_count": 45,
     "metadata": {},
     "output_type": "execute_result"
    }
   ],
   "source": [
    "temp.isnull().sum()"
   ]
  },
  {
   "cell_type": "markdown",
   "id": "d621011d-9df5-4e22-897b-67ea9e24036a",
   "metadata": {},
   "source": [
    "# dropna\n",
    "will remove all the na value containing rows"
   ]
  },
  {
   "cell_type": "code",
   "execution_count": 46,
   "id": "f7c73171-7159-4ff2-b566-335699cb5c96",
   "metadata": {},
   "outputs": [
    {
     "data": {
      "text/plain": [
       "0    1.0\n",
       "2    3.0\n",
       "3    4.0\n",
       "4    5.0\n",
       "6    7.0\n",
       "7    8.0\n",
       "9    0.0\n",
       "dtype: float64"
      ]
     },
     "execution_count": 46,
     "metadata": {},
     "output_type": "execute_result"
    }
   ],
   "source": [
    "temp.dropna()"
   ]
  },
  {
   "cell_type": "markdown",
   "id": "28ab9ea4-88af-47d5-8344-3948c073b98b",
   "metadata": {},
   "source": [
    "# fillna\n",
    "will fill na value with the given values."
   ]
  },
  {
   "cell_type": "code",
   "execution_count": 47,
   "id": "efecfefa-87e1-4e7d-9d8a-e8d81e599d3e",
   "metadata": {},
   "outputs": [
    {
     "data": {
      "text/plain": [
       "0    1.0\n",
       "1    0.0\n",
       "2    3.0\n",
       "3    4.0\n",
       "4    5.0\n",
       "5    0.0\n",
       "6    7.0\n",
       "7    8.0\n",
       "8    0.0\n",
       "9    0.0\n",
       "dtype: float64"
      ]
     },
     "execution_count": 47,
     "metadata": {},
     "output_type": "execute_result"
    }
   ],
   "source": [
    "temp.fillna(0)"
   ]
  },
  {
   "cell_type": "markdown",
   "id": "a2b740de-0cc5-4253-a67a-b21c0d6ad95d",
   "metadata": {},
   "source": [
    "# isin\n",
    "help to check multiple values in the data set single columns"
   ]
  },
  {
   "cell_type": "code",
   "execution_count": null,
   "id": "2a70da16-48a5-49fd-b525-013806d15cc7",
   "metadata": {},
   "outputs": [],
   "source": [
    "# | - worked as or bitwise operator\n",
    "vk[(vk==49) | (vk==99)] # method one"
   ]
  },
  {
   "cell_type": "code",
   "execution_count": null,
   "id": "aab8e291-8c2d-4067-b8d7-a77a46eca194",
   "metadata": {},
   "outputs": [],
   "source": [
    "# isin\n",
    "vk[vk.isin([49])]\n",
    "vk[vk.isin([49,99])]\n"
   ]
  },
  {
   "cell_type": "markdown",
   "id": "915b8f50-7b31-4f26-be58-927de34df84f",
   "metadata": {},
   "source": [
    "# apply\n",
    "will allow you to apply your own custom logic in the dataset"
   ]
  },
  {
   "cell_type": "code",
   "execution_count": null,
   "id": "b79a73af-67e5-4fd0-97ad-1255504c47de",
   "metadata": {},
   "outputs": [],
   "source": [
    "# first name of actor should be capital latter \n",
    "bolly.apply(lambda x: x.split()[0].upper())"
   ]
  },
  {
   "cell_type": "code",
   "execution_count": null,
   "id": "d524d944-5f10-427b-8468-5b69ac9fdc84",
   "metadata": {},
   "outputs": [],
   "source": [
    "# extract first name of the actor\n",
    "bolly.apply(lambda x: x.split())\n"
   ]
  },
  {
   "cell_type": "code",
   "execution_count": null,
   "id": "677b7915-8454-4061-8829-40cd924b21e2",
   "metadata": {},
   "outputs": [],
   "source": [
    "subs"
   ]
  },
  {
   "cell_type": "code",
   "execution_count": null,
   "id": "4ea8fd0c-de03-4210-9731-c5f634239b76",
   "metadata": {},
   "outputs": [],
   "source": [
    "subs.mean()"
   ]
  },
  {
   "cell_type": "code",
   "execution_count": null,
   "id": "de264fbd-33fc-4970-8221-fbd43d0c702d",
   "metadata": {},
   "outputs": [],
   "source": [
    "# if subscriber count greater than average subscribers than call it good day otherwise bad day.\n",
    "subs.apply(lambda x: \"Good Day\" if x>subs.mean() else \"Bad Days\")"
   ]
  },
  {
   "cell_type": "markdown",
   "id": "2ccc36f1-b47f-463e-b9d9-5f16aa9a6384",
   "metadata": {},
   "source": [
    "# copy"
   ]
  },
  {
   "cell_type": "code",
   "execution_count": null,
   "id": "6b2732fc-de46-42c3-ac0d-697da07f4d85",
   "metadata": {},
   "outputs": [],
   "source": [
    "new=vk.head().copy()"
   ]
  },
  {
   "cell_type": "code",
   "execution_count": null,
   "id": "24fce0d9-09bb-46e2-b3bf-1b4d2afaf5dc",
   "metadata": {},
   "outputs": [],
   "source": [
    "new"
   ]
  },
  {
   "cell_type": "code",
   "execution_count": null,
   "id": "4cdc7936-35af-41b2-8b62-289e9335fc05",
   "metadata": {},
   "outputs": [],
   "source": [
    "new[1]=100"
   ]
  },
  {
   "cell_type": "code",
   "execution_count": null,
   "id": "e8cf6408-1326-4696-bed7-15bfd0b906c0",
   "metadata": {},
   "outputs": [],
   "source": [
    "new"
   ]
  },
  {
   "cell_type": "code",
   "execution_count": null,
   "id": "3b060c50-c8c5-46af-beef-2e4995cee84f",
   "metadata": {},
   "outputs": [],
   "source": [
    "vk"
   ]
  },
  {
   "cell_type": "code",
   "execution_count": null,
   "id": "2fc05756-7485-4c15-8f76-617268ac6d06",
   "metadata": {},
   "outputs": [],
   "source": []
  }
 ],
 "metadata": {
  "kernelspec": {
   "display_name": "Python 3 (ipykernel)",
   "language": "python",
   "name": "python3"
  },
  "language_info": {
   "codemirror_mode": {
    "name": "ipython",
    "version": 3
   },
   "file_extension": ".py",
   "mimetype": "text/x-python",
   "name": "python",
   "nbconvert_exporter": "python",
   "pygments_lexer": "ipython3",
   "version": "3.11.7"
  },
  "widgets": {
   "application/vnd.jupyter.widget-state+json": {
    "state": {},
    "version_major": 2,
    "version_minor": 0
   }
  }
 },
 "nbformat": 4,
 "nbformat_minor": 5
}
